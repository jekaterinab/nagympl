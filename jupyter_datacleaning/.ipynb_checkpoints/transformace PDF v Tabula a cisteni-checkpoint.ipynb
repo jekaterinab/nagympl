{
 "cells": [
  {
   "cell_type": "markdown",
   "metadata": {},
   "source": [
    "transformace PDF v Tabula \n"
   ]
  },
  {
   "cell_type": "code",
   "execution_count": 4,
   "metadata": {},
   "outputs": [],
   "source": [
    "import os\n",
    "import re\n",
    "import pandas as pd\n",
    "import tabula"
   ]
  },
  {
   "cell_type": "code",
   "execution_count": 5,
   "metadata": {},
   "outputs": [
    {
     "data": {
      "text/plain": [
       "'D:\\\\nagympl\\\\nagympl\\\\jupyter_datacleaning'"
      ]
     },
     "execution_count": 5,
     "metadata": {},
     "output_type": "execute_result"
    }
   ],
   "source": [
    "os.getcwd()\n"
   ]
  },
  {
   "cell_type": "code",
   "execution_count": 6,
   "metadata": {
    "scrolled": true
   },
   "outputs": [
    {
     "data": {
      "text/plain": [
       "['.ipynb_checkpoints',\n",
       " 'cisteni csv.ipynb',\n",
       " 'transformace PDF v Tabula a cisteni.ipynb']"
      ]
     },
     "execution_count": 6,
     "metadata": {},
     "output_type": "execute_result"
    }
   ],
   "source": [
    "os.listdir()\n"
   ]
  },
  {
   "cell_type": "markdown",
   "metadata": {},
   "source": [
    "promenne rok a skola"
   ]
  },
  {
   "cell_type": "code",
   "execution_count": 7,
   "metadata": {},
   "outputs": [],
   "source": [
    "year = 2017\n",
    "schoolid = 16"
   ]
  },
  {
   "cell_type": "markdown",
   "metadata": {},
   "source": [
    "slozka v pocitaci, kde jsou podslozky s jednotlivymi skolami"
   ]
  },
  {
   "cell_type": "code",
   "execution_count": 10,
   "metadata": {},
   "outputs": [],
   "source": [
    "path = (f'D:/nagympl/trans_PDF/ostre soubory/{schoolid}/')"
   ]
  },
  {
   "cell_type": "code",
   "execution_count": 11,
   "metadata": {},
   "outputs": [
    {
     "name": "stdout",
     "output_type": "stream",
     "text": [
      "D:/nagympl./trans_PDF/ostre soubory/16/\n"
     ]
    }
   ],
   "source": [
    "print(path)"
   ]
  },
  {
   "cell_type": "code",
   "execution_count": 133,
   "metadata": {},
   "outputs": [
    {
     "name": "stdout",
     "output_type": "stream",
     "text": [
      "['16-2017-Hudebni.PDF', '16-2017-Hudebni.xlsx', '16-2017-HudebniSkola-prijeti.PDF', '16-2017.csv', '16-2018-Hudebni.PDF', '16-2018-Hudebni.xlsx', '16-2018-HudebniSkola-prijati.PDF', '16-2019-Hudebni-prijati.jfif', '16-2019-Hudebni.PDF', '16-2019-Hudebni.xlsx', '16-2020-Hudebni.PDF', '16-2020-Hudebni.xlsx', '16_2017_pythonapi.csv', '16_2018_pythonapi.csv', '16_2019_pythonapi.csv', '16_2020_pythonapi.csv', 'AnyConv.com__16-2019-Hudebni-prijati.pdf']\n"
     ]
    }
   ],
   "source": [
    "files = os.listdir(path)\n",
    "print(files)"
   ]
  },
  {
   "cell_type": "code",
   "execution_count": 134,
   "metadata": {},
   "outputs": [
    {
     "name": "stdout",
     "output_type": "stream",
     "text": [
      "./trans_PDF/ostre soubory/16/16-2017.csv\n"
     ]
    }
   ],
   "source": [
    "file = path + files[3]\n",
    "print(file)"
   ]
  },
  {
   "cell_type": "code",
   "execution_count": 135,
   "metadata": {
    "scrolled": true
   },
   "outputs": [
    {
     "name": "stderr",
     "output_type": "stream",
     "text": [
      "Error from tabula-java:\n",
      "Error: Error: Header doesn't contain versioninfo\r\n",
      "\n",
      "\n"
     ]
    },
    {
     "ename": "CalledProcessError",
     "evalue": "Command '['java', '-Dfile.encoding=UTF8', '-jar', 'c:\\\\users\\\\asus\\\\appdata\\\\local\\\\programs\\\\python\\\\python38-32\\\\lib\\\\site-packages\\\\tabula\\\\tabula-1.0.4-jar-with-dependencies.jar', '--pages', 'all', '--guess', './trans_PDF/ostre soubory/16/16-2017.csv']' returned non-zero exit status 1.",
     "output_type": "error",
     "traceback": [
      "\u001b[1;31m---------------------------------------------------------------------------\u001b[0m",
      "\u001b[1;31mCalledProcessError\u001b[0m                        Traceback (most recent call last)",
      "\u001b[1;32m<ipython-input-135-a4a40df971a8>\u001b[0m in \u001b[0;36m<module>\u001b[1;34m\u001b[0m\n\u001b[1;32m----> 1\u001b[1;33m table_raw = tabula.read_pdf(\n\u001b[0m\u001b[0;32m      2\u001b[0m     \u001b[0mfile\u001b[0m\u001b[1;33m,\u001b[0m\u001b[1;33m\u001b[0m\u001b[1;33m\u001b[0m\u001b[0m\n\u001b[0;32m      3\u001b[0m     \u001b[0mpages\u001b[0m\u001b[1;33m=\u001b[0m\u001b[1;34m\"all\"\u001b[0m\u001b[1;33m,\u001b[0m\u001b[1;33m\u001b[0m\u001b[1;33m\u001b[0m\u001b[0m\n\u001b[0;32m      4\u001b[0m     \u001b[0mmultiple_tables\u001b[0m\u001b[1;33m=\u001b[0m\u001b[1;32mTrue\u001b[0m\u001b[1;33m,\u001b[0m\u001b[1;33m\u001b[0m\u001b[1;33m\u001b[0m\u001b[0m\n\u001b[0;32m      5\u001b[0m     output_format='dataframe')\n",
      "\u001b[1;32mc:\\users\\asus\\appdata\\local\\programs\\python\\python38-32\\lib\\site-packages\\tabula\\io.py\u001b[0m in \u001b[0;36mread_pdf\u001b[1;34m(input_path, output_format, encoding, java_options, pandas_options, multiple_tables, user_agent, **kwargs)\u001b[0m\n\u001b[0;32m    320\u001b[0m \u001b[1;33m\u001b[0m\u001b[0m\n\u001b[0;32m    321\u001b[0m     \u001b[1;32mtry\u001b[0m\u001b[1;33m:\u001b[0m\u001b[1;33m\u001b[0m\u001b[1;33m\u001b[0m\u001b[0m\n\u001b[1;32m--> 322\u001b[1;33m         \u001b[0moutput\u001b[0m \u001b[1;33m=\u001b[0m \u001b[0m_run\u001b[0m\u001b[1;33m(\u001b[0m\u001b[0mjava_options\u001b[0m\u001b[1;33m,\u001b[0m \u001b[0mkwargs\u001b[0m\u001b[1;33m,\u001b[0m \u001b[0mpath\u001b[0m\u001b[1;33m,\u001b[0m \u001b[0mencoding\u001b[0m\u001b[1;33m)\u001b[0m\u001b[1;33m\u001b[0m\u001b[1;33m\u001b[0m\u001b[0m\n\u001b[0m\u001b[0;32m    323\u001b[0m     \u001b[1;32mfinally\u001b[0m\u001b[1;33m:\u001b[0m\u001b[1;33m\u001b[0m\u001b[1;33m\u001b[0m\u001b[0m\n\u001b[0;32m    324\u001b[0m         \u001b[1;32mif\u001b[0m \u001b[0mtemporary\u001b[0m\u001b[1;33m:\u001b[0m\u001b[1;33m\u001b[0m\u001b[1;33m\u001b[0m\u001b[0m\n",
      "\u001b[1;32mc:\\users\\asus\\appdata\\local\\programs\\python\\python38-32\\lib\\site-packages\\tabula\\io.py\u001b[0m in \u001b[0;36m_run\u001b[1;34m(java_options, options, path, encoding)\u001b[0m\n\u001b[0;32m     78\u001b[0m \u001b[1;33m\u001b[0m\u001b[0m\n\u001b[0;32m     79\u001b[0m     \u001b[1;32mtry\u001b[0m\u001b[1;33m:\u001b[0m\u001b[1;33m\u001b[0m\u001b[1;33m\u001b[0m\u001b[0m\n\u001b[1;32m---> 80\u001b[1;33m         result = subprocess.run(\n\u001b[0m\u001b[0;32m     81\u001b[0m             \u001b[0margs\u001b[0m\u001b[1;33m,\u001b[0m\u001b[1;33m\u001b[0m\u001b[1;33m\u001b[0m\u001b[0m\n\u001b[0;32m     82\u001b[0m             \u001b[0mstdout\u001b[0m\u001b[1;33m=\u001b[0m\u001b[0msubprocess\u001b[0m\u001b[1;33m.\u001b[0m\u001b[0mPIPE\u001b[0m\u001b[1;33m,\u001b[0m\u001b[1;33m\u001b[0m\u001b[1;33m\u001b[0m\u001b[0m\n",
      "\u001b[1;32mc:\\users\\asus\\appdata\\local\\programs\\python\\python38-32\\lib\\subprocess.py\u001b[0m in \u001b[0;36mrun\u001b[1;34m(input, capture_output, timeout, check, *popenargs, **kwargs)\u001b[0m\n\u001b[0;32m    510\u001b[0m         \u001b[0mretcode\u001b[0m \u001b[1;33m=\u001b[0m \u001b[0mprocess\u001b[0m\u001b[1;33m.\u001b[0m\u001b[0mpoll\u001b[0m\u001b[1;33m(\u001b[0m\u001b[1;33m)\u001b[0m\u001b[1;33m\u001b[0m\u001b[1;33m\u001b[0m\u001b[0m\n\u001b[0;32m    511\u001b[0m         \u001b[1;32mif\u001b[0m \u001b[0mcheck\u001b[0m \u001b[1;32mand\u001b[0m \u001b[0mretcode\u001b[0m\u001b[1;33m:\u001b[0m\u001b[1;33m\u001b[0m\u001b[1;33m\u001b[0m\u001b[0m\n\u001b[1;32m--> 512\u001b[1;33m             raise CalledProcessError(retcode, process.args,\n\u001b[0m\u001b[0;32m    513\u001b[0m                                      output=stdout, stderr=stderr)\n\u001b[0;32m    514\u001b[0m     \u001b[1;32mreturn\u001b[0m \u001b[0mCompletedProcess\u001b[0m\u001b[1;33m(\u001b[0m\u001b[0mprocess\u001b[0m\u001b[1;33m.\u001b[0m\u001b[0margs\u001b[0m\u001b[1;33m,\u001b[0m \u001b[0mretcode\u001b[0m\u001b[1;33m,\u001b[0m \u001b[0mstdout\u001b[0m\u001b[1;33m,\u001b[0m \u001b[0mstderr\u001b[0m\u001b[1;33m)\u001b[0m\u001b[1;33m\u001b[0m\u001b[1;33m\u001b[0m\u001b[0m\n",
      "\u001b[1;31mCalledProcessError\u001b[0m: Command '['java', '-Dfile.encoding=UTF8', '-jar', 'c:\\\\users\\\\asus\\\\appdata\\\\local\\\\programs\\\\python\\\\python38-32\\\\lib\\\\site-packages\\\\tabula\\\\tabula-1.0.4-jar-with-dependencies.jar', '--pages', 'all', '--guess', './trans_PDF/ostre soubory/16/16-2017.csv']' returned non-zero exit status 1."
     ]
    }
   ],
   "source": [
    "table_raw = tabula.read_pdf(\n",
    "    file,\n",
    "    pages=\"all\",\n",
    "    multiple_tables=True,\n",
    "    output_format='dataframe')"
   ]
  },
  {
   "cell_type": "code",
   "execution_count": null,
   "metadata": {},
   "outputs": [],
   "source": [
    "print(table_raw)\n",
    "print(type(table_raw))"
   ]
  },
  {
   "cell_type": "code",
   "execution_count": 118,
   "metadata": {},
   "outputs": [
    {
     "name": "stdout",
     "output_type": "stream",
     "text": [
      "1\n"
     ]
    }
   ],
   "source": [
    "print(len(table_raw))"
   ]
  },
  {
   "cell_type": "code",
   "execution_count": 119,
   "metadata": {},
   "outputs": [
    {
     "name": "stdout",
     "output_type": "stream",
     "text": [
      "<class 'pandas.core.frame.DataFrame'>\n"
     ]
    }
   ],
   "source": [
    "print(type(table_raw[0]))"
   ]
  },
  {
   "cell_type": "code",
   "execution_count": 124,
   "metadata": {},
   "outputs": [],
   "source": [
    "table = table_raw[0]\n"
   ]
  },
  {
   "cell_type": "code",
   "execution_count": 126,
   "metadata": {},
   "outputs": [
    {
     "name": "stdout",
     "output_type": "stream",
     "text": [
      "<class 'pandas.core.frame.DataFrame'>\n"
     ]
    }
   ],
   "source": [
    "print(type(table))"
   ]
  },
  {
   "cell_type": "code",
   "execution_count": 127,
   "metadata": {},
   "outputs": [
    {
     "name": "stdout",
     "output_type": "stream",
     "text": [
      "<class 'pandas.core.frame.DataFrame'>\n",
      "RangeIndex: 501 entries, 0 to 500\n",
      "Data columns (total 3 columns):\n",
      " #   Column        Non-Null Count  Dtype \n",
      "---  ------        --------------  ----- \n",
      " 0   Přijatí žáci  490 non-null    object\n",
      " 1   Unnamed: 1    491 non-null    object\n",
      " 2   Unnamed: 2    480 non-null    object\n",
      "dtypes: object(3)\n",
      "memory usage: 5.9+ KB\n"
     ]
    }
   ],
   "source": [
    "table.info()"
   ]
  },
  {
   "cell_type": "code",
   "execution_count": 123,
   "metadata": {},
   "outputs": [
    {
     "ename": "NameError",
     "evalue": "name 'soubor1' is not defined",
     "output_type": "error",
     "traceback": [
      "\u001b[1;31m---------------------------------------------------------------------------\u001b[0m",
      "\u001b[1;31mNameError\u001b[0m                                 Traceback (most recent call last)",
      "\u001b[1;32m<ipython-input-123-5656b05ec313>\u001b[0m in \u001b[0;36m<module>\u001b[1;34m\u001b[0m\n\u001b[1;32m----> 1\u001b[1;33m soubor1.rename(\n\u001b[0m\u001b[0;32m      2\u001b[0m     \u001b[0mcolumns\u001b[0m\u001b[1;33m=\u001b[0m\u001b[1;33m\u001b[0m\u001b[1;33m\u001b[0m\u001b[0m\n\u001b[0;32m      3\u001b[0m         {'poradi': 'RANK',\n\u001b[0;32m      4\u001b[0m          \u001b[1;34m'matemat.'\u001b[0m\u001b[1;33m:\u001b[0m \u001b[1;34m'MATH'\u001b[0m\u001b[1;33m,\u001b[0m\u001b[1;33m\u001b[0m\u001b[1;33m\u001b[0m\u001b[0m\n\u001b[0;32m      5\u001b[0m          \u001b[1;34m'čeština'\u001b[0m\u001b[1;33m:\u001b[0m \u001b[1;34m'CZECH'\u001b[0m\u001b[1;33m,\u001b[0m\u001b[1;33m\u001b[0m\u001b[1;33m\u001b[0m\u001b[0m\n",
      "\u001b[1;31mNameError\u001b[0m: name 'soubor1' is not defined"
     ]
    }
   ],
   "source": [
    "soubor1.rename(\n",
    "    columns=\n",
    "        {'poradi': 'RANK',\n",
    "         'matemat.': 'MATH',\n",
    "         'čeština': 'CZECH',\n",
    "         'Celkem': 'SUM',\n",
    "         'ZŠ': 'GRADES',\n",
    "         'reg. číslo': 'ID'},\n",
    "    inplace=True)"
   ]
  },
  {
   "cell_type": "code",
   "execution_count": 90,
   "metadata": {},
   "outputs": [
    {
     "name": "stdout",
     "output_type": "stream",
     "text": [
      "      RANK   reg. číslo  CZECH  MATH  GRADES  SUM\n",
      "0    1.-2.         5182    423   450   100.0  973\n",
      "1    1.-2.         6177    423   450   100.0  973\n",
      "2       3.         6041    441   432   100.0  973\n",
      "3    4.-6.         5193    414   450   100.0  964\n",
      "4    4.-6.         6032    414   450   100.0  964\n",
      "..     ...          ...    ...   ...     ...  ...\n",
      "528   529.         5020     45    81    62.0  188\n",
      "529   530.         5016     36    81    50.0  167\n",
      "530   531.         5225     81    36    50.0  167\n",
      "531   532.         5097     18    45    89.0  152\n",
      "532   533.         5213     54     9    60.0  123\n",
      "\n",
      "[533 rows x 6 columns]\n"
     ]
    }
   ],
   "source": [
    "print(soubor1)"
   ]
  },
  {
   "cell_type": "code",
   "execution_count": 128,
   "metadata": {},
   "outputs": [
    {
     "ename": "NameError",
     "evalue": "name 'soubor1' is not defined",
     "output_type": "error",
     "traceback": [
      "\u001b[1;31m---------------------------------------------------------------------------\u001b[0m",
      "\u001b[1;31mNameError\u001b[0m                                 Traceback (most recent call last)",
      "\u001b[1;32m<ipython-input-128-661804827f65>\u001b[0m in \u001b[0;36m<module>\u001b[1;34m\u001b[0m\n\u001b[1;32m----> 1\u001b[1;33m \u001b[0msoubor1\u001b[0m\u001b[1;33m[\u001b[0m\u001b[0msoubor1\u001b[0m\u001b[1;33m[\u001b[0m\u001b[1;34m'GRADES'\u001b[0m\u001b[1;33m]\u001b[0m\u001b[1;33m==\u001b[0m\u001b[1;36m67\u001b[0m\u001b[1;33m]\u001b[0m\u001b[1;33m\u001b[0m\u001b[1;33m\u001b[0m\u001b[0m\n\u001b[0m",
      "\u001b[1;31mNameError\u001b[0m: name 'soubor1' is not defined"
     ]
    }
   ],
   "source": [
    "soubor1[soubor1['GRADES']==67]"
   ]
  },
  {
   "cell_type": "code",
   "execution_count": 129,
   "metadata": {},
   "outputs": [
    {
     "ename": "NameError",
     "evalue": "name 'soubor1' is not defined",
     "output_type": "error",
     "traceback": [
      "\u001b[1;31m---------------------------------------------------------------------------\u001b[0m",
      "\u001b[1;31mNameError\u001b[0m                                 Traceback (most recent call last)",
      "\u001b[1;32m<ipython-input-129-f382a225b9a5>\u001b[0m in \u001b[0;36m<module>\u001b[1;34m\u001b[0m\n\u001b[1;32m----> 1\u001b[1;33m \u001b[0msoubor1\u001b[0m\u001b[1;33m.\u001b[0m\u001b[0mloc\u001b[0m\u001b[1;33m[\u001b[0m\u001b[0msoubor1\u001b[0m\u001b[1;33m[\u001b[0m\u001b[1;33m[\u001b[0m\u001b[1;34m\"CZECH\"\u001b[0m\u001b[1;33m,\u001b[0m \u001b[1;34m\"MATH\"\u001b[0m\u001b[1;33m,\u001b[0m \u001b[1;34m\"GRADES\"\u001b[0m\u001b[1;33m]\u001b[0m\u001b[1;33m]\u001b[0m\u001b[1;33m.\u001b[0m\u001b[0msum\u001b[0m\u001b[1;33m(\u001b[0m\u001b[0maxis\u001b[0m\u001b[1;33m=\u001b[0m\u001b[1;36m1\u001b[0m\u001b[1;33m)\u001b[0m \u001b[1;33m!=\u001b[0m \u001b[0msoubor1\u001b[0m\u001b[1;33m[\u001b[0m\u001b[1;34m\"SUM\"\u001b[0m\u001b[1;33m]\u001b[0m\u001b[1;33m]\u001b[0m\u001b[1;33m\u001b[0m\u001b[1;33m\u001b[0m\u001b[0m\n\u001b[0m",
      "\u001b[1;31mNameError\u001b[0m: name 'soubor1' is not defined"
     ]
    }
   ],
   "source": [
    "soubor1.loc[soubor1[[\"CZECH\", \"MATH\", \"GRADES\"]].sum(axis=1) != soubor1[\"SUM\"]]"
   ]
  },
  {
   "cell_type": "code",
   "execution_count": 114,
   "metadata": {},
   "outputs": [
    {
     "data": {
      "text/html": [
       "<div>\n",
       "<style scoped>\n",
       "    .dataframe tbody tr th:only-of-type {\n",
       "        vertical-align: middle;\n",
       "    }\n",
       "\n",
       "    .dataframe tbody tr th {\n",
       "        vertical-align: top;\n",
       "    }\n",
       "\n",
       "    .dataframe thead th {\n",
       "        text-align: right;\n",
       "    }\n",
       "</style>\n",
       "<table border=\"1\" class=\"dataframe\">\n",
       "  <thead>\n",
       "    <tr style=\"text-align: right;\">\n",
       "      <th></th>\n",
       "      <th>Přijatí žáci</th>\n",
       "      <th>Unnamed: 1</th>\n",
       "      <th>Unnamed: 2</th>\n",
       "    </tr>\n",
       "  </thead>\n",
       "  <tbody>\n",
       "    <tr>\n",
       "      <th>0</th>\n",
       "      <td>NaN</td>\n",
       "      <td>B o d o v é  h o d n o c e n í</td>\n",
       "      <td>NaN</td>\n",
       "    </tr>\n",
       "    <tr>\n",
       "      <th>1</th>\n",
       "      <td>reg. číslo</td>\n",
       "      <td>čeština matemat. ZŠ</td>\n",
       "      <td>Celkem</td>\n",
       "    </tr>\n",
       "    <tr>\n",
       "      <th>2</th>\n",
       "      <td>1. 9041</td>\n",
       "      <td>387  450   100</td>\n",
       "      <td>937</td>\n",
       "    </tr>\n",
       "    <tr>\n",
       "      <th>3</th>\n",
       "      <td>2. 8230</td>\n",
       "      <td>396  441   100</td>\n",
       "      <td>937</td>\n",
       "    </tr>\n",
       "    <tr>\n",
       "      <th>4</th>\n",
       "      <td>3. 9063</td>\n",
       "      <td>414  423   100</td>\n",
       "      <td>937</td>\n",
       "    </tr>\n",
       "    <tr>\n",
       "      <th>...</th>\n",
       "      <td>...</td>\n",
       "      <td>...</td>\n",
       "      <td>...</td>\n",
       "    </tr>\n",
       "    <tr>\n",
       "      <th>496</th>\n",
       "      <td>465. 8104</td>\n",
       "      <td>99   45 60</td>\n",
       "      <td>204</td>\n",
       "    </tr>\n",
       "    <tr>\n",
       "      <th>497</th>\n",
       "      <td>466. 8237</td>\n",
       "      <td>90   18 89</td>\n",
       "      <td>197</td>\n",
       "    </tr>\n",
       "    <tr>\n",
       "      <th>498</th>\n",
       "      <td>467. 9022</td>\n",
       "      <td>135   36 25</td>\n",
       "      <td>196</td>\n",
       "    </tr>\n",
       "    <tr>\n",
       "      <th>499</th>\n",
       "      <td>468. 8209</td>\n",
       "      <td>63   45 80</td>\n",
       "      <td>188</td>\n",
       "    </tr>\n",
       "    <tr>\n",
       "      <th>500</th>\n",
       "      <td>469. 8181</td>\n",
       "      <td>90   45 0</td>\n",
       "      <td>135</td>\n",
       "    </tr>\n",
       "  </tbody>\n",
       "</table>\n",
       "<p>501 rows × 3 columns</p>\n",
       "</div>"
      ],
      "text/plain": [
       "    Přijatí žáci                      Unnamed: 1 Unnamed: 2\n",
       "0            NaN  B o d o v é  h o d n o c e n í        NaN\n",
       "1     reg. číslo             čeština matemat. ZŠ     Celkem\n",
       "2        1. 9041                  387  450   100        937\n",
       "3        2. 8230                  396  441   100        937\n",
       "4        3. 9063                  414  423   100        937\n",
       "..           ...                             ...        ...\n",
       "496    465. 8104                      99   45 60        204\n",
       "497    466. 8237                      90   18 89        197\n",
       "498    467. 9022                     135   36 25        196\n",
       "499    468. 8209                      63   45 80        188\n",
       "500    469. 8181                       90   45 0        135\n",
       "\n",
       "[501 rows x 3 columns]"
      ]
     },
     "execution_count": 114,
     "metadata": {},
     "output_type": "execute_result"
    }
   ],
   "source": [
    "table"
   ]
  },
  {
   "cell_type": "markdown",
   "metadata": {},
   "source": [
    "KONTROLA - JAK SPRAVNE"
   ]
  },
  {
   "cell_type": "code",
   "execution_count": 92,
   "metadata": {},
   "outputs": [
    {
     "name": "stderr",
     "output_type": "stream",
     "text": [
      "c:\\users\\asus\\appdata\\local\\programs\\python\\python38-32\\lib\\site-packages\\pandas\\core\\computation\\expressions.py:68: FutureWarning: elementwise comparison failed; returning scalar instead, but in the future will perform elementwise comparison\n",
      "  return op(a, b)\n"
     ]
    },
    {
     "data": {
      "text/html": [
       "<div>\n",
       "<style scoped>\n",
       "    .dataframe tbody tr th:only-of-type {\n",
       "        vertical-align: middle;\n",
       "    }\n",
       "\n",
       "    .dataframe tbody tr th {\n",
       "        vertical-align: top;\n",
       "    }\n",
       "\n",
       "    .dataframe thead th {\n",
       "        text-align: right;\n",
       "    }\n",
       "</style>\n",
       "<table border=\"1\" class=\"dataframe\">\n",
       "  <thead>\n",
       "    <tr style=\"text-align: right;\">\n",
       "      <th></th>\n",
       "      <th>RANK</th>\n",
       "      <th>reg. číslo</th>\n",
       "      <th>CZECH</th>\n",
       "      <th>MATH</th>\n",
       "      <th>GRADES</th>\n",
       "      <th>SUM</th>\n",
       "    </tr>\n",
       "  </thead>\n",
       "  <tbody>\n",
       "    <tr>\n",
       "      <th>0</th>\n",
       "      <td>1.-2.</td>\n",
       "      <td>5182</td>\n",
       "      <td>423</td>\n",
       "      <td>450</td>\n",
       "      <td>100.0</td>\n",
       "      <td>973</td>\n",
       "    </tr>\n",
       "    <tr>\n",
       "      <th>1</th>\n",
       "      <td>1.-2.</td>\n",
       "      <td>6177</td>\n",
       "      <td>423</td>\n",
       "      <td>450</td>\n",
       "      <td>100.0</td>\n",
       "      <td>973</td>\n",
       "    </tr>\n",
       "    <tr>\n",
       "      <th>2</th>\n",
       "      <td>3.</td>\n",
       "      <td>6041</td>\n",
       "      <td>441</td>\n",
       "      <td>432</td>\n",
       "      <td>100.0</td>\n",
       "      <td>973</td>\n",
       "    </tr>\n",
       "    <tr>\n",
       "      <th>3</th>\n",
       "      <td>4.-6.</td>\n",
       "      <td>5193</td>\n",
       "      <td>414</td>\n",
       "      <td>450</td>\n",
       "      <td>100.0</td>\n",
       "      <td>964</td>\n",
       "    </tr>\n",
       "    <tr>\n",
       "      <th>4</th>\n",
       "      <td>4.-6.</td>\n",
       "      <td>6032</td>\n",
       "      <td>414</td>\n",
       "      <td>450</td>\n",
       "      <td>100.0</td>\n",
       "      <td>964</td>\n",
       "    </tr>\n",
       "    <tr>\n",
       "      <th>...</th>\n",
       "      <td>...</td>\n",
       "      <td>...</td>\n",
       "      <td>...</td>\n",
       "      <td>...</td>\n",
       "      <td>...</td>\n",
       "      <td>...</td>\n",
       "    </tr>\n",
       "    <tr>\n",
       "      <th>528</th>\n",
       "      <td>529.</td>\n",
       "      <td>5020</td>\n",
       "      <td>45</td>\n",
       "      <td>81</td>\n",
       "      <td>62.0</td>\n",
       "      <td>188</td>\n",
       "    </tr>\n",
       "    <tr>\n",
       "      <th>529</th>\n",
       "      <td>530.</td>\n",
       "      <td>5016</td>\n",
       "      <td>36</td>\n",
       "      <td>81</td>\n",
       "      <td>50.0</td>\n",
       "      <td>167</td>\n",
       "    </tr>\n",
       "    <tr>\n",
       "      <th>530</th>\n",
       "      <td>531.</td>\n",
       "      <td>5225</td>\n",
       "      <td>81</td>\n",
       "      <td>36</td>\n",
       "      <td>50.0</td>\n",
       "      <td>167</td>\n",
       "    </tr>\n",
       "    <tr>\n",
       "      <th>531</th>\n",
       "      <td>532.</td>\n",
       "      <td>5097</td>\n",
       "      <td>18</td>\n",
       "      <td>45</td>\n",
       "      <td>89.0</td>\n",
       "      <td>152</td>\n",
       "    </tr>\n",
       "    <tr>\n",
       "      <th>532</th>\n",
       "      <td>533.</td>\n",
       "      <td>5213</td>\n",
       "      <td>54</td>\n",
       "      <td>9</td>\n",
       "      <td>60.0</td>\n",
       "      <td>123</td>\n",
       "    </tr>\n",
       "  </tbody>\n",
       "</table>\n",
       "<p>533 rows × 6 columns</p>\n",
       "</div>"
      ],
      "text/plain": [
       "      RANK   reg. číslo  CZECH  MATH  GRADES  SUM\n",
       "0    1.-2.         5182    423   450   100.0  973\n",
       "1    1.-2.         6177    423   450   100.0  973\n",
       "2       3.         6041    441   432   100.0  973\n",
       "3    4.-6.         5193    414   450   100.0  964\n",
       "4    4.-6.         6032    414   450   100.0  964\n",
       "..     ...          ...    ...   ...     ...  ...\n",
       "528   529.         5020     45    81    62.0  188\n",
       "529   530.         5016     36    81    50.0  167\n",
       "530   531.         5225     81    36    50.0  167\n",
       "531   532.         5097     18    45    89.0  152\n",
       "532   533.         5213     54     9    60.0  123\n",
       "\n",
       "[533 rows x 6 columns]"
      ]
     },
     "execution_count": 92,
     "metadata": {},
     "output_type": "execute_result"
    }
   ],
   "source": []
  },
  {
   "cell_type": "code",
   "execution_count": 93,
   "metadata": {},
   "outputs": [
    {
     "name": "stdout",
     "output_type": "stream",
     "text": [
      "0       1.-2.\n",
      "1       1.-2.\n",
      "2          3.\n",
      "3       4.-6.\n",
      "4       4.-6.\n",
      "5       4.-6.\n",
      "6          7.\n",
      "7       8.-9.\n",
      "8       8.-9.\n",
      "9         10.\n",
      "10        11.\n",
      "11    12.-13.\n",
      "12    12.-13.\n",
      "13        14.\n",
      "14    15.-16.\n",
      "15    15.-16.\n",
      "16    17.-18.\n",
      "17    17.-18.\n",
      "18        19.\n",
      "19        20.\n",
      "20        21.\n",
      "21        22.\n",
      "22        23.\n",
      "23        24.\n",
      "24        25.\n",
      "25        26.\n",
      "26        27.\n",
      "27    28.-29.\n",
      "28    28.-29.\n",
      "29        30.\n",
      "30        31.\n",
      "31        32.\n",
      "32        33.\n",
      "33        34.\n",
      "34        35.\n",
      "Name: RANK, dtype: object\n"
     ]
    }
   ],
   "source": [
    "print(soubor1['RANK'].head(35))"
   ]
  },
  {
   "cell_type": "markdown",
   "metadata": {},
   "source": [
    "RANK transformation - test "
   ]
  },
  {
   "cell_type": "code",
   "execution_count": 94,
   "metadata": {},
   "outputs": [
    {
     "data": {
      "text/plain": [
       "'28'"
      ]
     },
     "execution_count": 94,
     "metadata": {},
     "output_type": "execute_result"
    }
   ],
   "source": [
    "test_string = soubor1['RANK'][28] # test also on index 0\n",
    "re.sub('[^0-9]+', '', test_string.split('-')[0])"
   ]
  },
  {
   "cell_type": "markdown",
   "metadata": {},
   "source": [
    "RANK transformation + prevod na int + kontrola"
   ]
  },
  {
   "cell_type": "code",
   "execution_count": 95,
   "metadata": {},
   "outputs": [],
   "source": [
    "soubor1['RANK'] = [re.sub('[^0-9]+', '', s.split('-')[0]) for s in soubor1['RANK']]"
   ]
  },
  {
   "cell_type": "code",
   "execution_count": 96,
   "metadata": {},
   "outputs": [],
   "source": [
    "soubor1['RANK'] = soubor1['RANK'].astype(int)"
   ]
  },
  {
   "cell_type": "code",
   "execution_count": 97,
   "metadata": {},
   "outputs": [
    {
     "data": {
      "text/html": [
       "<div>\n",
       "<style scoped>\n",
       "    .dataframe tbody tr th:only-of-type {\n",
       "        vertical-align: middle;\n",
       "    }\n",
       "\n",
       "    .dataframe tbody tr th {\n",
       "        vertical-align: top;\n",
       "    }\n",
       "\n",
       "    .dataframe thead th {\n",
       "        text-align: right;\n",
       "    }\n",
       "</style>\n",
       "<table border=\"1\" class=\"dataframe\">\n",
       "  <thead>\n",
       "    <tr style=\"text-align: right;\">\n",
       "      <th></th>\n",
       "      <th>RANK</th>\n",
       "      <th>reg. číslo</th>\n",
       "      <th>CZECH</th>\n",
       "      <th>MATH</th>\n",
       "      <th>GRADES</th>\n",
       "      <th>SUM</th>\n",
       "    </tr>\n",
       "  </thead>\n",
       "  <tbody>\n",
       "    <tr>\n",
       "      <th>483</th>\n",
       "      <td>484</td>\n",
       "      <td>6198</td>\n",
       "      <td>216</td>\n",
       "      <td>99</td>\n",
       "      <td>57.0</td>\n",
       "      <td>372</td>\n",
       "    </tr>\n",
       "    <tr>\n",
       "      <th>484</th>\n",
       "      <td>485</td>\n",
       "      <td>5235</td>\n",
       "      <td>198</td>\n",
       "      <td>81</td>\n",
       "      <td>90.0</td>\n",
       "      <td>369</td>\n",
       "    </tr>\n",
       "    <tr>\n",
       "      <th>485</th>\n",
       "      <td>486</td>\n",
       "      <td>6107</td>\n",
       "      <td>144</td>\n",
       "      <td>135</td>\n",
       "      <td>89.0</td>\n",
       "      <td>368</td>\n",
       "    </tr>\n",
       "    <tr>\n",
       "      <th>486</th>\n",
       "      <td>487</td>\n",
       "      <td>6031</td>\n",
       "      <td>81</td>\n",
       "      <td>216</td>\n",
       "      <td>70.0</td>\n",
       "      <td>367</td>\n",
       "    </tr>\n",
       "    <tr>\n",
       "      <th>487</th>\n",
       "      <td>488</td>\n",
       "      <td>6144</td>\n",
       "      <td>135</td>\n",
       "      <td>144</td>\n",
       "      <td>78.0</td>\n",
       "      <td>357</td>\n",
       "    </tr>\n",
       "    <tr>\n",
       "      <th>488</th>\n",
       "      <td>489</td>\n",
       "      <td>6013</td>\n",
       "      <td>153</td>\n",
       "      <td>144</td>\n",
       "      <td>56.0</td>\n",
       "      <td>353</td>\n",
       "    </tr>\n",
       "    <tr>\n",
       "      <th>489</th>\n",
       "      <td>490</td>\n",
       "      <td>6039</td>\n",
       "      <td>189</td>\n",
       "      <td>162</td>\n",
       "      <td>0.0</td>\n",
       "      <td>351</td>\n",
       "    </tr>\n",
       "    <tr>\n",
       "      <th>490</th>\n",
       "      <td>491</td>\n",
       "      <td>5088</td>\n",
       "      <td>198</td>\n",
       "      <td>54</td>\n",
       "      <td>90.0</td>\n",
       "      <td>342</td>\n",
       "    </tr>\n",
       "    <tr>\n",
       "      <th>491</th>\n",
       "      <td>492</td>\n",
       "      <td>6071</td>\n",
       "      <td>135</td>\n",
       "      <td>126</td>\n",
       "      <td>80.0</td>\n",
       "      <td>341</td>\n",
       "    </tr>\n",
       "    <tr>\n",
       "      <th>492</th>\n",
       "      <td>493</td>\n",
       "      <td>5215</td>\n",
       "      <td>153</td>\n",
       "      <td>135</td>\n",
       "      <td>50.0</td>\n",
       "      <td>338</td>\n",
       "    </tr>\n",
       "    <tr>\n",
       "      <th>493</th>\n",
       "      <td>494</td>\n",
       "      <td>6117</td>\n",
       "      <td>99</td>\n",
       "      <td>162</td>\n",
       "      <td>70.0</td>\n",
       "      <td>331</td>\n",
       "    </tr>\n",
       "    <tr>\n",
       "      <th>494</th>\n",
       "      <td>495</td>\n",
       "      <td>5284</td>\n",
       "      <td>72</td>\n",
       "      <td>198</td>\n",
       "      <td>60.0</td>\n",
       "      <td>330</td>\n",
       "    </tr>\n",
       "    <tr>\n",
       "      <th>495</th>\n",
       "      <td>496</td>\n",
       "      <td>6226</td>\n",
       "      <td>126</td>\n",
       "      <td>99</td>\n",
       "      <td>100.0</td>\n",
       "      <td>325</td>\n",
       "    </tr>\n",
       "    <tr>\n",
       "      <th>496</th>\n",
       "      <td>497</td>\n",
       "      <td>5141</td>\n",
       "      <td>189</td>\n",
       "      <td>54</td>\n",
       "      <td>80.0</td>\n",
       "      <td>323</td>\n",
       "    </tr>\n",
       "    <tr>\n",
       "      <th>497</th>\n",
       "      <td>498</td>\n",
       "      <td>5095</td>\n",
       "      <td>153</td>\n",
       "      <td>81</td>\n",
       "      <td>89.0</td>\n",
       "      <td>323</td>\n",
       "    </tr>\n",
       "    <tr>\n",
       "      <th>498</th>\n",
       "      <td>499</td>\n",
       "      <td>5054</td>\n",
       "      <td>117</td>\n",
       "      <td>135</td>\n",
       "      <td>70.0</td>\n",
       "      <td>322</td>\n",
       "    </tr>\n",
       "    <tr>\n",
       "      <th>499</th>\n",
       "      <td>499</td>\n",
       "      <td>5154</td>\n",
       "      <td>117</td>\n",
       "      <td>135</td>\n",
       "      <td>70.0</td>\n",
       "      <td>322</td>\n",
       "    </tr>\n",
       "    <tr>\n",
       "      <th>500</th>\n",
       "      <td>501</td>\n",
       "      <td>6014</td>\n",
       "      <td>36</td>\n",
       "      <td>234</td>\n",
       "      <td>50.0</td>\n",
       "      <td>320</td>\n",
       "    </tr>\n",
       "    <tr>\n",
       "      <th>501</th>\n",
       "      <td>502</td>\n",
       "      <td>5156</td>\n",
       "      <td>126</td>\n",
       "      <td>90</td>\n",
       "      <td>100.0</td>\n",
       "      <td>316</td>\n",
       "    </tr>\n",
       "    <tr>\n",
       "      <th>502</th>\n",
       "      <td>503</td>\n",
       "      <td>5102</td>\n",
       "      <td>135</td>\n",
       "      <td>99</td>\n",
       "      <td>80.0</td>\n",
       "      <td>314</td>\n",
       "    </tr>\n",
       "    <tr>\n",
       "      <th>503</th>\n",
       "      <td>504</td>\n",
       "      <td>6262</td>\n",
       "      <td>99</td>\n",
       "      <td>126</td>\n",
       "      <td>89.0</td>\n",
       "      <td>314</td>\n",
       "    </tr>\n",
       "    <tr>\n",
       "      <th>504</th>\n",
       "      <td>505</td>\n",
       "      <td>5264</td>\n",
       "      <td>117</td>\n",
       "      <td>90</td>\n",
       "      <td>100.0</td>\n",
       "      <td>307</td>\n",
       "    </tr>\n",
       "    <tr>\n",
       "      <th>505</th>\n",
       "      <td>506</td>\n",
       "      <td>6080</td>\n",
       "      <td>171</td>\n",
       "      <td>90</td>\n",
       "      <td>44.0</td>\n",
       "      <td>305</td>\n",
       "    </tr>\n",
       "    <tr>\n",
       "      <th>506</th>\n",
       "      <td>507</td>\n",
       "      <td>6101</td>\n",
       "      <td>126</td>\n",
       "      <td>90</td>\n",
       "      <td>89.0</td>\n",
       "      <td>305</td>\n",
       "    </tr>\n",
       "    <tr>\n",
       "      <th>507</th>\n",
       "      <td>508</td>\n",
       "      <td>6223</td>\n",
       "      <td>72</td>\n",
       "      <td>162</td>\n",
       "      <td>70.0</td>\n",
       "      <td>304</td>\n",
       "    </tr>\n",
       "    <tr>\n",
       "      <th>508</th>\n",
       "      <td>509</td>\n",
       "      <td>5087</td>\n",
       "      <td>189</td>\n",
       "      <td>36</td>\n",
       "      <td>78.0</td>\n",
       "      <td>303</td>\n",
       "    </tr>\n",
       "    <tr>\n",
       "      <th>509</th>\n",
       "      <td>510</td>\n",
       "      <td>5043</td>\n",
       "      <td>153</td>\n",
       "      <td>108</td>\n",
       "      <td>36.0</td>\n",
       "      <td>297</td>\n",
       "    </tr>\n",
       "    <tr>\n",
       "      <th>510</th>\n",
       "      <td>511</td>\n",
       "      <td>5210</td>\n",
       "      <td>126</td>\n",
       "      <td>72</td>\n",
       "      <td>78.0</td>\n",
       "      <td>276</td>\n",
       "    </tr>\n",
       "    <tr>\n",
       "      <th>511</th>\n",
       "      <td>512</td>\n",
       "      <td>5074</td>\n",
       "      <td>81</td>\n",
       "      <td>99</td>\n",
       "      <td>90.0</td>\n",
       "      <td>270</td>\n",
       "    </tr>\n",
       "    <tr>\n",
       "      <th>512</th>\n",
       "      <td>513</td>\n",
       "      <td>6038</td>\n",
       "      <td>108</td>\n",
       "      <td>81</td>\n",
       "      <td>80.0</td>\n",
       "      <td>269</td>\n",
       "    </tr>\n",
       "    <tr>\n",
       "      <th>513</th>\n",
       "      <td>514</td>\n",
       "      <td>6159</td>\n",
       "      <td>144</td>\n",
       "      <td>54</td>\n",
       "      <td>70.0</td>\n",
       "      <td>268</td>\n",
       "    </tr>\n",
       "    <tr>\n",
       "      <th>514</th>\n",
       "      <td>515</td>\n",
       "      <td>6081</td>\n",
       "      <td>81</td>\n",
       "      <td>99</td>\n",
       "      <td>82.0</td>\n",
       "      <td>262</td>\n",
       "    </tr>\n",
       "    <tr>\n",
       "      <th>515</th>\n",
       "      <td>516</td>\n",
       "      <td>5070</td>\n",
       "      <td>117</td>\n",
       "      <td>81</td>\n",
       "      <td>60.0</td>\n",
       "      <td>258</td>\n",
       "    </tr>\n",
       "    <tr>\n",
       "      <th>516</th>\n",
       "      <td>517</td>\n",
       "      <td>6011</td>\n",
       "      <td>135</td>\n",
       "      <td>45</td>\n",
       "      <td>78.0</td>\n",
       "      <td>258</td>\n",
       "    </tr>\n",
       "    <tr>\n",
       "      <th>517</th>\n",
       "      <td>518</td>\n",
       "      <td>6165</td>\n",
       "      <td>162</td>\n",
       "      <td>18</td>\n",
       "      <td>78.0</td>\n",
       "      <td>258</td>\n",
       "    </tr>\n",
       "    <tr>\n",
       "      <th>518</th>\n",
       "      <td>519</td>\n",
       "      <td>6034</td>\n",
       "      <td>126</td>\n",
       "      <td>36</td>\n",
       "      <td>89.0</td>\n",
       "      <td>251</td>\n",
       "    </tr>\n",
       "    <tr>\n",
       "      <th>519</th>\n",
       "      <td>520</td>\n",
       "      <td>5139</td>\n",
       "      <td>81</td>\n",
       "      <td>54</td>\n",
       "      <td>100.0</td>\n",
       "      <td>235</td>\n",
       "    </tr>\n",
       "    <tr>\n",
       "      <th>520</th>\n",
       "      <td>521</td>\n",
       "      <td>5243</td>\n",
       "      <td>108</td>\n",
       "      <td>27</td>\n",
       "      <td>100.0</td>\n",
       "      <td>235</td>\n",
       "    </tr>\n",
       "    <tr>\n",
       "      <th>521</th>\n",
       "      <td>522</td>\n",
       "      <td>5112</td>\n",
       "      <td>153</td>\n",
       "      <td>0</td>\n",
       "      <td>70.0</td>\n",
       "      <td>223</td>\n",
       "    </tr>\n",
       "    <tr>\n",
       "      <th>522</th>\n",
       "      <td>523</td>\n",
       "      <td>6026</td>\n",
       "      <td>108</td>\n",
       "      <td>63</td>\n",
       "      <td>45.0</td>\n",
       "      <td>216</td>\n",
       "    </tr>\n",
       "    <tr>\n",
       "      <th>523</th>\n",
       "      <td>524</td>\n",
       "      <td>5071</td>\n",
       "      <td>90</td>\n",
       "      <td>54</td>\n",
       "      <td>67.0</td>\n",
       "      <td>211</td>\n",
       "    </tr>\n",
       "    <tr>\n",
       "      <th>524</th>\n",
       "      <td>525</td>\n",
       "      <td>5058</td>\n",
       "      <td>63</td>\n",
       "      <td>81</td>\n",
       "      <td>62.0</td>\n",
       "      <td>206</td>\n",
       "    </tr>\n",
       "    <tr>\n",
       "      <th>525</th>\n",
       "      <td>526</td>\n",
       "      <td>5185</td>\n",
       "      <td>72</td>\n",
       "      <td>72</td>\n",
       "      <td>60.0</td>\n",
       "      <td>204</td>\n",
       "    </tr>\n",
       "    <tr>\n",
       "      <th>526</th>\n",
       "      <td>527</td>\n",
       "      <td>6082</td>\n",
       "      <td>36</td>\n",
       "      <td>81</td>\n",
       "      <td>85.0</td>\n",
       "      <td>202</td>\n",
       "    </tr>\n",
       "    <tr>\n",
       "      <th>527</th>\n",
       "      <td>528</td>\n",
       "      <td>6033</td>\n",
       "      <td>54</td>\n",
       "      <td>72</td>\n",
       "      <td>67.0</td>\n",
       "      <td>193</td>\n",
       "    </tr>\n",
       "    <tr>\n",
       "      <th>528</th>\n",
       "      <td>529</td>\n",
       "      <td>5020</td>\n",
       "      <td>45</td>\n",
       "      <td>81</td>\n",
       "      <td>62.0</td>\n",
       "      <td>188</td>\n",
       "    </tr>\n",
       "    <tr>\n",
       "      <th>529</th>\n",
       "      <td>530</td>\n",
       "      <td>5016</td>\n",
       "      <td>36</td>\n",
       "      <td>81</td>\n",
       "      <td>50.0</td>\n",
       "      <td>167</td>\n",
       "    </tr>\n",
       "    <tr>\n",
       "      <th>530</th>\n",
       "      <td>531</td>\n",
       "      <td>5225</td>\n",
       "      <td>81</td>\n",
       "      <td>36</td>\n",
       "      <td>50.0</td>\n",
       "      <td>167</td>\n",
       "    </tr>\n",
       "    <tr>\n",
       "      <th>531</th>\n",
       "      <td>532</td>\n",
       "      <td>5097</td>\n",
       "      <td>18</td>\n",
       "      <td>45</td>\n",
       "      <td>89.0</td>\n",
       "      <td>152</td>\n",
       "    </tr>\n",
       "    <tr>\n",
       "      <th>532</th>\n",
       "      <td>533</td>\n",
       "      <td>5213</td>\n",
       "      <td>54</td>\n",
       "      <td>9</td>\n",
       "      <td>60.0</td>\n",
       "      <td>123</td>\n",
       "    </tr>\n",
       "  </tbody>\n",
       "</table>\n",
       "</div>"
      ],
      "text/plain": [
       "     RANK   reg. číslo  CZECH  MATH  GRADES  SUM\n",
       "483   484         6198    216    99    57.0  372\n",
       "484   485         5235    198    81    90.0  369\n",
       "485   486         6107    144   135    89.0  368\n",
       "486   487         6031     81   216    70.0  367\n",
       "487   488         6144    135   144    78.0  357\n",
       "488   489         6013    153   144    56.0  353\n",
       "489   490         6039    189   162     0.0  351\n",
       "490   491         5088    198    54    90.0  342\n",
       "491   492         6071    135   126    80.0  341\n",
       "492   493         5215    153   135    50.0  338\n",
       "493   494         6117     99   162    70.0  331\n",
       "494   495         5284     72   198    60.0  330\n",
       "495   496         6226    126    99   100.0  325\n",
       "496   497         5141    189    54    80.0  323\n",
       "497   498         5095    153    81    89.0  323\n",
       "498   499         5054    117   135    70.0  322\n",
       "499   499         5154    117   135    70.0  322\n",
       "500   501         6014     36   234    50.0  320\n",
       "501   502         5156    126    90   100.0  316\n",
       "502   503         5102    135    99    80.0  314\n",
       "503   504         6262     99   126    89.0  314\n",
       "504   505         5264    117    90   100.0  307\n",
       "505   506         6080    171    90    44.0  305\n",
       "506   507         6101    126    90    89.0  305\n",
       "507   508         6223     72   162    70.0  304\n",
       "508   509         5087    189    36    78.0  303\n",
       "509   510         5043    153   108    36.0  297\n",
       "510   511         5210    126    72    78.0  276\n",
       "511   512         5074     81    99    90.0  270\n",
       "512   513         6038    108    81    80.0  269\n",
       "513   514         6159    144    54    70.0  268\n",
       "514   515         6081     81    99    82.0  262\n",
       "515   516         5070    117    81    60.0  258\n",
       "516   517         6011    135    45    78.0  258\n",
       "517   518         6165    162    18    78.0  258\n",
       "518   519         6034    126    36    89.0  251\n",
       "519   520         5139     81    54   100.0  235\n",
       "520   521         5243    108    27   100.0  235\n",
       "521   522         5112    153     0    70.0  223\n",
       "522   523         6026    108    63    45.0  216\n",
       "523   524         5071     90    54    67.0  211\n",
       "524   525         5058     63    81    62.0  206\n",
       "525   526         5185     72    72    60.0  204\n",
       "526   527         6082     36    81    85.0  202\n",
       "527   528         6033     54    72    67.0  193\n",
       "528   529         5020     45    81    62.0  188\n",
       "529   530         5016     36    81    50.0  167\n",
       "530   531         5225     81    36    50.0  167\n",
       "531   532         5097     18    45    89.0  152\n",
       "532   533         5213     54     9    60.0  123"
      ]
     },
     "execution_count": 97,
     "metadata": {},
     "output_type": "execute_result"
    }
   ],
   "source": [
    "soubor1.tail(50)"
   ]
  },
  {
   "cell_type": "code",
   "execution_count": 98,
   "metadata": {},
   "outputs": [],
   "source": [
    "soubor1['YEAR'] = year"
   ]
  },
  {
   "cell_type": "code",
   "execution_count": 99,
   "metadata": {},
   "outputs": [],
   "source": [
    "soubor1['SCHOOLCOURSE_ID'] = int(str(schoolid) + \"81\")"
   ]
  },
  {
   "cell_type": "code",
   "execution_count": 100,
   "metadata": {},
   "outputs": [],
   "source": [
    "soubor1.to_csv(f\"{path}/{schoolid}_{year}_clean.csv\", encoding='utf-8')"
   ]
  },
  {
   "cell_type": "code",
   "execution_count": null,
   "metadata": {
    "scrolled": true
   },
   "outputs": [],
   "source": [
    "\n"
   ]
  },
  {
   "cell_type": "code",
   "execution_count": null,
   "metadata": {},
   "outputs": [],
   "source": []
  }
 ],
 "metadata": {
  "kernelspec": {
   "display_name": "Python 3",
   "language": "python",
   "name": "python3"
  },
  "language_info": {
   "codemirror_mode": {
    "name": "ipython",
    "version": 3
   },
   "file_extension": ".py",
   "mimetype": "text/x-python",
   "name": "python",
   "nbconvert_exporter": "python",
   "pygments_lexer": "ipython3",
   "version": "3.8.4"
  }
 },
 "nbformat": 4,
 "nbformat_minor": 4
}
