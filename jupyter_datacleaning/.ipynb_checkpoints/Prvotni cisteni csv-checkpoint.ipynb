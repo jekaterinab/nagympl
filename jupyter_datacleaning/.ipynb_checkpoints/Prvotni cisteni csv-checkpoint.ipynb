{
 "cells": [
  {
   "cell_type": "markdown",
   "metadata": {},
   "source": [
    "### Zakladni transformace nad .csv ziskanymi z online convertoru PDFTABLES.com (pristup pres API, samostatny script v Pythonu) // Zakladni transformace nad .csv ziskanymi z online convertoru PDF to Excel.com jako .xmls a transformovanymi do .csv rucne"
   ]
  },
  {
   "cell_type": "code",
   "execution_count": 1,
   "metadata": {},
   "outputs": [],
   "source": [
    "import os\n",
    "import re\n",
    "import pandas as pd"
   ]
  },
  {
   "cell_type": "code",
   "execution_count": 2,
   "metadata": {},
   "outputs": [
    {
     "data": {
      "text/plain": [
       "'D:\\\\nagympl\\\\nagympl\\\\jupyter_datacleaning'"
      ]
     },
     "execution_count": 2,
     "metadata": {},
     "output_type": "execute_result"
    }
   ],
   "source": [
    "os.getcwd()\n"
   ]
  },
  {
   "cell_type": "code",
   "execution_count": 3,
   "metadata": {
    "scrolled": true
   },
   "outputs": [
    {
     "data": {
      "text/plain": [
       "['.ipynb_checkpoints',\n",
       " 'Prvotni cisteni csv.ipynb',\n",
       " 'transformace PDF v Tabula a cisteni.ipynb']"
      ]
     },
     "execution_count": 3,
     "metadata": {},
     "output_type": "execute_result"
    }
   ],
   "source": [
    "os.listdir()\n"
   ]
  },
  {
   "cell_type": "markdown",
   "metadata": {},
   "source": [
    "### Promenne rok a skola"
   ]
  },
  {
   "cell_type": "markdown",
   "metadata": {},
   "source": [
    "year = 2017\n",
    "schoolid = 20"
   ]
  },
  {
   "cell_type": "code",
   "execution_count": 4,
   "metadata": {},
   "outputs": [],
   "source": [
    "year = 2017\n",
    "schoolid = 12"
   ]
  },
  {
   "cell_type": "markdown",
   "metadata": {},
   "source": [
    "### slozka v pocitaci, kde jsou podslozky s jednotlivymi skolami\n",
    "upravit, pokud jupyter notebook se spousti z jine slozky, u mne to vypada takto"
   ]
  },
  {
   "cell_type": "code",
   "execution_count": 10,
   "metadata": {},
   "outputs": [],
   "source": [
    "path = (f'd:/nagympl/trans_PDF/ostre soubory/{schoolid}/')"
   ]
  },
  {
   "cell_type": "code",
   "execution_count": 11,
   "metadata": {},
   "outputs": [
    {
     "name": "stdout",
     "output_type": "stream",
     "text": [
      "d:/nagympl/trans_PDF/ostre soubory/12/\n"
     ]
    }
   ],
   "source": [
    "print(path)"
   ]
  },
  {
   "cell_type": "markdown",
   "metadata": {},
   "source": [
    "### vypsat vsechny .csv ve vybrane slozce "
   ]
  },
  {
   "cell_type": "code",
   "execution_count": 12,
   "metadata": {},
   "outputs": [
    {
     "name": "stdout",
     "output_type": "stream",
     "text": [
      "['12_2017.csv', '12_2017_pythonapi.csv', '12_2018.csv', '12_2018_pythonapi.csv', '12_2019.csv', '12_2019_pythonapi.csv', '12_2020.csv', '12_2020_pythonapi.csv']\n"
     ]
    }
   ],
   "source": [
    "files = os.listdir(path)\n",
    "csvs = []\n",
    "for file in files:\n",
    "    if file.endswith('csv'):\n",
    "        csvs.append(file)\n",
    "    elif file.endswith('xlsx'):\n",
    "        csvs.append(file)\n",
    "print(csvs)\n",
    "#['20_2017_clean.csv', '20_2017_n_pythonapi.csv', '20_2017_pythonapi.csv', '20_2017_p_pythonapi.csv', \n",
    "#'20_2018.csv', '20_2018_clean.csv', '20_2018_n_pythonapi.csv', '20_2018_pythonapi.csv', '20_2019.csv',\n",
    "#'20_2019_clean.csv', '20_2019_n_pythonapi.csv', '20_2019_p_pythonapi.csv', '20_2020.csv', \n",
    "#'20_2020_clean.csv', '20_2020_n_pythonapi.csv', '20_2020_pythonapi.csv']"
   ]
  },
  {
   "cell_type": "markdown",
   "metadata": {},
   "source": [
    "#### Pokud v puvodnim souboru jsou carky misto tecek :\n",
    "decimal = ','\n",
    "#### POkud jsou tecky, pro jistotu\n",
    "decimal = '.'"
   ]
  },
  {
   "cell_type": "markdown",
   "metadata": {},
   "source": [
    "##### Bud index souboru v seznamu nebo primo nazev pomoci promennych, ostatni soucasti nazvu pripadne dopsat, upravit pomlcky apod."
   ]
  },
  {
   "cell_type": "code",
   "execution_count": 15,
   "metadata": {},
   "outputs": [],
   "source": [
    "soubor1 = pd.read_csv(f\"{path}/{csvs[0]}\", encoding='utf-8', decimal = ',')"
   ]
  },
  {
   "cell_type": "code",
   "execution_count": null,
   "metadata": {},
   "outputs": [],
   "source": [
    "soubor1 = pd.read_csv(f\"{path}/{csvs[0]}\", encoding='utf-8', decimal = ',')"
   ]
  },
  {
   "cell_type": "code",
   "execution_count": null,
   "metadata": {},
   "outputs": [],
   "source": [
    "soubor1 = open(f\"{path}/{schoolid}-{year}.csv\")"
   ]
  },
  {
   "cell_type": "code",
   "execution_count": null,
   "metadata": {},
   "outputs": [],
   "source": [
    "soubor1 = pd.read_csv(f\"{path}/{schoolid}_{year}.csv\", encoding='utf-8', decimal = ',')"
   ]
  },
  {
   "cell_type": "code",
   "execution_count": null,
   "metadata": {},
   "outputs": [],
   "source": [
    "soubor1 = pd.read_csv(f\"{path}/{schoolid}_{year}_clean.csv\", encoding='utf-8', decimal = ',')"
   ]
  },
  {
   "cell_type": "code",
   "execution_count": 16,
   "metadata": {
    "scrolled": false
   },
   "outputs": [
    {
     "name": "stdout",
     "output_type": "stream",
     "text": [
      "     RANK          ID GRADES  MATH  CZECH  AJ    SUM  ADMITTED_ID\n",
      "0       1  22661227.0     10    50     49  49    158            1\n",
      "1       2  27654269.0     10    47     49  46    152            1\n",
      "2       3  18646376.0     10    44     50  48    152            1\n",
      "3       4  11663894.0     10    46     46  48    150            1\n",
      "4       5  46664612.0     10    48     44  47    149            1\n",
      "..    ...         ...    ...   ...    ...  ..    ...          ...\n",
      "280   281  86645112.0   5.53    13     11  13  42.53            0\n",
      "281   282   4657654.0      6    13     10  11     40            0\n",
      "282   283         NaN   9.33     8     19  14  50.33            2\n",
      "283   284  65651087.0     10     8     29  35     82            2\n",
      "284   285  99652850.0   7.33    21      7   7  42.33            2\n",
      "\n",
      "[285 rows x 8 columns]\n"
     ]
    }
   ],
   "source": [
    "#kontrola\n",
    "print(soubor1)\n",
    "# RANK     ID    SUM  GRADES    VR    SP  CZECH  MATH  ADMITTED_ID\n",
    "#0      57  20841  111.0     2.0  20.0  16.0   40.0    33            0\n",
    "#1      58  46153  111.0     2.0  18.0  14.0   38.0    39            0\n",
    "#2      58  69883  111.0     2.0  18.0  14.0   42.0    35            0\n",
    "#3      60  43215  110.0     2.0  18.0  18.0   35.0    37            0\n",
    "#4      61  17451  110.0     2.0  16.0  16.0   41.0    35            0"
   ]
  },
  {
   "cell_type": "code",
   "execution_count": 17,
   "metadata": {},
   "outputs": [
    {
     "name": "stdout",
     "output_type": "stream",
     "text": [
      "<class 'pandas.core.frame.DataFrame'>\n"
     ]
    }
   ],
   "source": [
    "#kontrola typu\n",
    "print(type(soubor1))\n",
    "#<class 'pandas.core.frame.DataFrame'>"
   ]
  },
  {
   "cell_type": "code",
   "execution_count": 18,
   "metadata": {},
   "outputs": [
    {
     "name": "stdout",
     "output_type": "stream",
     "text": [
      "<class 'pandas.core.frame.DataFrame'>\n",
      "RangeIndex: 285 entries, 0 to 284\n",
      "Data columns (total 8 columns):\n",
      " #   Column       Non-Null Count  Dtype  \n",
      "---  ------       --------------  -----  \n",
      " 0   RANK         285 non-null    int64  \n",
      " 1   ID           283 non-null    float64\n",
      " 2   GRADES       285 non-null    object \n",
      " 3   MATH         285 non-null    int64  \n",
      " 4   CZECH        285 non-null    int64  \n",
      " 5   AJ           285 non-null    int64  \n",
      " 6   SUM          285 non-null    object \n",
      " 7   ADMITTED_ID  285 non-null    int64  \n",
      "dtypes: float64(1), int64(5), object(2)\n",
      "memory usage: 15.6+ KB\n"
     ]
    }
   ],
   "source": [
    "#kontrola obsahu \n",
    "soubor1.info()\n",
    "#<class 'pandas.core.frame.DataFrame'>\n",
    "#RangeIndex: 386 entries, 0 to 385\n",
    "#Data columns (total 9 columns):\n",
    " #   Column       Non-Null Count  Dtype  \n",
    "#---  ------       --------------  -----  \n",
    "# 0   RANK         386 non-null    int64  \n",
    "# 1   ID           386 non-null    int64  \n",
    "# 2   SUM          386 non-null    float64\n",
    "# 3   GRADES       386 non-null    float64\n",
    "# 4   VR           385 non-null    float64\n",
    "# 5   SP           385 non-null    float64\n",
    "# 6   CZECH        384 non-null    float64\n",
    "# 7   MATH         386 non-null    int64  \n",
    "# 8   ADMITTED_ID  386 non-null    int64  \n",
    "#dtypes: float64(5), int64(4)\n",
    "#memory usage: 27.2 KB"
   ]
  },
  {
   "cell_type": "markdown",
   "metadata": {},
   "source": [
    "### pripadna uprava nazvu"
   ]
  },
  {
   "cell_type": "markdown",
   "metadata": {},
   "source": [
    "soubor1.rename(\n",
    "    columns=\n",
    "        {'poradi': 'RANK',\n",
    "         'matemat.': 'MATH',\n",
    "         'čeština': 'CZECH',\n",
    "         'Celkem': 'SUM',\n",
    "         'ZŠ': 'GRADES',\n",
    "         'reg. číslo': 'ID'},\n",
    "    inplace=True)"
   ]
  },
  {
   "cell_type": "markdown",
   "metadata": {},
   "source": [
    "soubor1[\"SUM\"] = soubor1[\"SUM\"].astype(float)"
   ]
  },
  {
   "cell_type": "markdown",
   "metadata": {},
   "source": [
    "#### KONTROLA - JESTLI JSOU SCHOVANE SOUTEZE VE VYSLEDCICH "
   ]
  },
  {
   "cell_type": "code",
   "execution_count": 19,
   "metadata": {},
   "outputs": [],
   "source": [
    "souteze = soubor1.loc[soubor1[[\"CZECH\", \"MATH\", \"GRADES\"]].astype(float).sum(axis=1) != soubor1[\"SUM\"]]"
   ]
  },
  {
   "cell_type": "markdown",
   "metadata": {},
   "source": [
    "#### kontrola RANK, pripadne deleni"
   ]
  },
  {
   "cell_type": "code",
   "execution_count": 20,
   "metadata": {},
   "outputs": [
    {
     "name": "stdout",
     "output_type": "stream",
     "text": [
      "245    246\n",
      "246    247\n",
      "247    248\n",
      "248    249\n",
      "249    250\n",
      "250    251\n",
      "251    252\n",
      "252    253\n",
      "253    254\n",
      "254    255\n",
      "255    256\n",
      "256    257\n",
      "257    258\n",
      "258    259\n",
      "259    260\n",
      "260    261\n",
      "261    262\n",
      "262    263\n",
      "263    264\n",
      "264    265\n",
      "265    266\n",
      "266    267\n",
      "267    268\n",
      "268    269\n",
      "269    270\n",
      "270    271\n",
      "271    272\n",
      "272    273\n",
      "273    274\n",
      "274    275\n",
      "275    276\n",
      "276    277\n",
      "277    278\n",
      "278    279\n",
      "279    280\n",
      "280    281\n",
      "281    282\n",
      "282    283\n",
      "283    284\n",
      "284    285\n",
      "Name: RANK, dtype: int64\n"
     ]
    }
   ],
   "source": [
    "print(soubor1['RANK'].tail(40))"
   ]
  },
  {
   "cell_type": "markdown",
   "metadata": {},
   "source": [
    "#### RANK transformation - test "
   ]
  },
  {
   "cell_type": "code",
   "execution_count": null,
   "metadata": {},
   "outputs": [],
   "source": [
    "test_string = soubor1['RANK'][36] # test also on index 0\n",
    "re.sub('[^0-9]+', '', test_string.split('-')[0])"
   ]
  },
  {
   "cell_type": "markdown",
   "metadata": {},
   "source": [
    "### RANK transformation + prevod na int + kontrola"
   ]
  },
  {
   "cell_type": "code",
   "execution_count": null,
   "metadata": {},
   "outputs": [],
   "source": [
    "soubor1['RANK'] = [re.sub('[^0-9]+', '', s.split('-')[0]) for s in soubor1['RANK']]"
   ]
  },
  {
   "cell_type": "code",
   "execution_count": null,
   "metadata": {},
   "outputs": [],
   "source": [
    "soubor1['RANK'] = soubor1['RANK'].astype(int)"
   ]
  },
  {
   "cell_type": "markdown",
   "metadata": {},
   "source": [
    "### doplneni sloupcu year a schoolcourse_id dle promennych a ukladani souboru"
   ]
  },
  {
   "cell_type": "code",
   "execution_count": 21,
   "metadata": {},
   "outputs": [],
   "source": [
    "soubor1['YEAR'] = year"
   ]
  },
  {
   "cell_type": "code",
   "execution_count": 22,
   "metadata": {},
   "outputs": [],
   "source": [
    "soubor1['SCHOOLCOURSE_ID'] = int(str(schoolid) + \"81\")\n",
    "#kod oboru 81 u osmiletych gymnazii, ktere zpracovavame v ramci projektu"
   ]
  },
  {
   "cell_type": "code",
   "execution_count": 23,
   "metadata": {
    "scrolled": true
   },
   "outputs": [],
   "source": [
    "soubor1.to_csv(f\"{path}/{schoolid}_{year}_clean.csv\", encoding='utf-8')\n"
   ]
  },
  {
   "cell_type": "code",
   "execution_count": null,
   "metadata": {},
   "outputs": [],
   "source": []
  }
 ],
 "metadata": {
  "kernelspec": {
   "display_name": "Python 3",
   "language": "python",
   "name": "python3"
  },
  "language_info": {
   "codemirror_mode": {
    "name": "ipython",
    "version": 3
   },
   "file_extension": ".py",
   "mimetype": "text/x-python",
   "name": "python",
   "nbconvert_exporter": "python",
   "pygments_lexer": "ipython3",
   "version": "3.8.4"
  }
 },
 "nbformat": 4,
 "nbformat_minor": 4
}
