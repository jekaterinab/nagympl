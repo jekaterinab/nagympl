{
 "cells": [
  {
   "cell_type": "markdown",
   "metadata": {},
   "source": [
    "### Zakladni transformace nad .csv ziskanymi z online convertoru PDFTABLES.com (pristup pres API, samostatny script v Pythonu) // Zakladni transformace nad .csv ziskanymi z online convertoru PDF to Excel.com jako .xmls a transformovanymi do .csv rucne"
   ]
  },
  {
   "cell_type": "code",
   "execution_count": 1,
   "metadata": {},
   "outputs": [],
   "source": [
    "import os\n",
    "import re\n",
    "import pandas as pd"
   ]
  },
  {
   "cell_type": "code",
   "execution_count": 2,
   "metadata": {},
   "outputs": [
    {
     "data": {
      "text/plain": [
       "'D:\\\\nagympl\\\\nagympl\\\\jupyter_datacleaning'"
      ]
     },
     "execution_count": 2,
     "metadata": {},
     "output_type": "execute_result"
    }
   ],
   "source": [
    "os.getcwd()\n"
   ]
  },
  {
   "cell_type": "code",
   "execution_count": 3,
   "metadata": {
    "scrolled": true
   },
   "outputs": [
    {
     "data": {
      "text/plain": [
       "['.ipynb_checkpoints',\n",
       " 'Prvotni cisteni csv.ipynb',\n",
       " 'transformace PDF v Tabula a cisteni.ipynb']"
      ]
     },
     "execution_count": 3,
     "metadata": {},
     "output_type": "execute_result"
    }
   ],
   "source": [
    "os.listdir()\n"
   ]
  },
  {
   "cell_type": "markdown",
   "metadata": {},
   "source": [
    "### Promenne rok a skola"
   ]
  },
  {
   "cell_type": "markdown",
   "metadata": {},
   "source": [
    "year = 2017\n",
    "schoolid = 20"
   ]
  },
  {
   "cell_type": "code",
   "execution_count": 66,
   "metadata": {},
   "outputs": [],
   "source": [
    "year = 2017\n",
    "schoolid = \"03\" "
   ]
  },
  {
   "cell_type": "markdown",
   "metadata": {},
   "source": [
    "### slozka v pocitaci, kde jsou podslozky s jednotlivymi skolami\n",
    "upravit, pokud jupyter notebook se spousti z jine slozky, u mne to vypada takto"
   ]
  },
  {
   "cell_type": "code",
   "execution_count": 67,
   "metadata": {},
   "outputs": [],
   "source": [
    "path = (f'd:/nagympl/trans_PDF/ostre soubory/{schoolid}/')"
   ]
  },
  {
   "cell_type": "code",
   "execution_count": 68,
   "metadata": {},
   "outputs": [
    {
     "name": "stdout",
     "output_type": "stream",
     "text": [
      "d:/nagympl/trans_PDF/ostre soubory/03/\n"
     ]
    }
   ],
   "source": [
    "print(path)"
   ]
  },
  {
   "cell_type": "markdown",
   "metadata": {},
   "source": [
    "### vypsat vsechny .csv ve vybrane slozce "
   ]
  },
  {
   "cell_type": "code",
   "execution_count": 69,
   "metadata": {},
   "outputs": [
    {
     "name": "stdout",
     "output_type": "stream",
     "text": [
      "['03-2017-Pisnicka-neprijati.csv', '03-2017-Pisnicka-prijati.csv', '03_2017.csv', '03_2017_clean.csv', '03_2017_n_pythonapi.csv', '03_2017_pythonapi.csv', '03_2018.csv', '03_2018_clean.csv', '03_2018_n_pythonapi.csv', '03_2018_p_pythonapi.csv', '03_2019.csv', '03_2019_clean.csv', '03_2019_n_pythonapi.csv', '03_2019_pythonapi.csv', '03_2020.csv', '03_2020_clean.csv', '03_2020_n_pythonapi.csv', '03_2020_pythonapi.csv']\n"
     ]
    }
   ],
   "source": [
    "files = os.listdir(path)\n",
    "csvs = []\n",
    "for file in files:\n",
    "    if file.endswith('csv'):\n",
    "        csvs.append(file)\n",
    "    #elif file.endswith('xlsx'):\n",
    "        #csvs.append(file)\n",
    "print(csvs)\n",
    "#['20_2017_clean.csv', '20_2017_n_pythonapi.csv', '20_2017_pythonapi.csv', '20_2017_p_pythonapi.csv', \n",
    "#'20_2018.csv', '20_2018_clean.csv', '20_2018_n_pythonapi.csv', '20_2018_pythonapi.csv', '20_2019.csv',\n",
    "#'20_2019_clean.csv', '20_2019_n_pythonapi.csv', '20_2019_p_pythonapi.csv', '20_2020.csv', \n",
    "#'20_2020_clean.csv', '20_2020_n_pythonapi.csv', '20_2020_pythonapi.csv']"
   ]
  },
  {
   "cell_type": "markdown",
   "metadata": {},
   "source": [
    "#### Pokud v puvodnim souboru jsou carky misto tecek :\n",
    "decimal = ','\n",
    "#### Pokud jsou tecky, pro jistotu\n",
    "decimal = '.'"
   ]
  },
  {
   "cell_type": "markdown",
   "metadata": {},
   "source": [
    "##### Bud index souboru v seznamu nebo primo nazev pomoci promennych, ostatni soucasti nazvu pripadne dopsat, upravit pomlcky apod."
   ]
  },
  {
   "cell_type": "code",
   "execution_count": 70,
   "metadata": {},
   "outputs": [],
   "source": [
    "soubor1 = pd.read_csv(f\"{path}/{csvs[2]}\", encoding='utf-8', decimal = '.')"
   ]
  },
  {
   "cell_type": "markdown",
   "metadata": {},
   "source": [
    "soubor1 = pd.read_csv(f\"{path}/{csvs[0]}\", encoding='utf-8', decimal = ',')"
   ]
  },
  {
   "cell_type": "markdown",
   "metadata": {},
   "source": [
    "soubor1 = open(f\"{path}/{schoolid}-{year}.csv\")"
   ]
  },
  {
   "cell_type": "markdown",
   "metadata": {},
   "source": [
    "soubor1 = pd.read_csv(f\"{path}/{schoolid}_{year}.csv\", encoding='utf-8', decimal = '.')"
   ]
  },
  {
   "cell_type": "markdown",
   "metadata": {},
   "source": [
    "soubor1 = pd.read_csv(f\"{path}/{schoolid}_{year}_clean.csv\", encoding='utf-8', decimal = ',')"
   ]
  },
  {
   "cell_type": "code",
   "execution_count": 71,
   "metadata": {
    "scrolled": false
   },
   "outputs": [
    {
     "name": "stdout",
     "output_type": "stream",
     "text": [
      "    Unnamed: 0  RANK   ID  GRADES  MATH  CZECH  SUM  ADMITTED_ID\n",
      "0          NaN     1   64      22    48     46  116            0\n",
      "1          NaN     2  237      22    46     47  115            0\n",
      "2          NaN     3   65      22    42     49  113            0\n",
      "3          NaN     4  224      22    42     47  111            0\n",
      "4          NaN     5   96      22    48     40  110            0\n",
      "..         ...   ...  ...     ...   ...    ...  ...          ...\n",
      "244        NaN    24  177      22    40     43  105            1\n",
      "245        NaN    25  185      22    44     38  104            1\n",
      "246        NaN    26   37      22    42     40  104            1\n",
      "247        NaN    27   82      22    40     42  104            1\n",
      "248        NaN    28   39      22    38     44  104            1\n",
      "\n",
      "[249 rows x 8 columns]\n"
     ]
    }
   ],
   "source": [
    "#kontrola\n",
    "print(soubor1)\n",
    "# RANK     ID    SUM  GRADES    VR    SP  CZECH  MATH  ADMITTED_ID\n",
    "#0      57  20841  111.0     2.0  20.0  16.0   40.0    33            0\n",
    "#1      58  46153  111.0     2.0  18.0  14.0   38.0    39            0\n",
    "#2      58  69883  111.0     2.0  18.0  14.0   42.0    35            0\n",
    "#3      60  43215  110.0     2.0  18.0  18.0   35.0    37            0\n",
    "#4      61  17451  110.0     2.0  16.0  16.0   41.0    35            0"
   ]
  },
  {
   "cell_type": "code",
   "execution_count": 35,
   "metadata": {},
   "outputs": [
    {
     "name": "stdout",
     "output_type": "stream",
     "text": [
      "<class 'pandas.core.frame.DataFrame'>\n"
     ]
    }
   ],
   "source": [
    "#kontrola typu\n",
    "print(type(soubor1))\n",
    "#<class 'pandas.core.frame.DataFrame'>"
   ]
  },
  {
   "cell_type": "code",
   "execution_count": 62,
   "metadata": {},
   "outputs": [
    {
     "name": "stdout",
     "output_type": "stream",
     "text": [
      "<class 'pandas.core.frame.DataFrame'>\n",
      "RangeIndex: 287 entries, 0 to 286\n",
      "Data columns (total 7 columns):\n",
      " #   Column       Non-Null Count  Dtype\n",
      "---  ------       --------------  -----\n",
      " 0   RANK         287 non-null    int64\n",
      " 1   ID           287 non-null    int64\n",
      " 2   GRADES       287 non-null    int64\n",
      " 3   MATH         287 non-null    int64\n",
      " 4   CZECH        287 non-null    int64\n",
      " 5   SUM          287 non-null    int64\n",
      " 6   ADMITTED_ID  287 non-null    int64\n",
      "dtypes: int64(7)\n",
      "memory usage: 15.8 KB\n"
     ]
    }
   ],
   "source": [
    "#kontrola obsahu \n",
    "soubor1.info()\n",
    "#<class 'pandas.core.frame.DataFrame'>\n",
    "#RangeIndex: 386 entries, 0 to 385\n",
    "#Data columns (total 9 columns):\n",
    " #   Column       Non-Null Count  Dtype  \n",
    "#---  ------       --------------  -----  \n",
    "# 0   RANK         386 non-null    int64  \n",
    "# 1   ID           386 non-null    int64  \n",
    "# 2   SUM          386 non-null    float64\n",
    "# 3   GRADES       386 non-null    float64\n",
    "# 4   VR           385 non-null    float64\n",
    "# 5   SP           385 non-null    float64\n",
    "# 6   CZECH        384 non-null    float64\n",
    "# 7   MATH         386 non-null    int64  \n",
    "# 8   ADMITTED_ID  386 non-null    int64  \n",
    "#dtypes: float64(5), int64(4)\n",
    "#memory usage: 27.2 KB"
   ]
  },
  {
   "cell_type": "markdown",
   "metadata": {},
   "source": [
    "### pripadna uprava nazvu"
   ]
  },
  {
   "cell_type": "code",
   "execution_count": 21,
   "metadata": {},
   "outputs": [],
   "source": [
    "soubor1.rename(\n",
    "    columns=\n",
    "        {'Unnamed': 'TODROP',\n",
    "            'SOUTEZE': 'CONTESTS'},\n",
    "    inplace=True)"
   ]
  },
  {
   "cell_type": "markdown",
   "metadata": {},
   "source": [
    "soubor1[\"SUM\"] = soubor1[\"SUM\"].astype(float)"
   ]
  },
  {
   "cell_type": "markdown",
   "metadata": {},
   "source": [
    "#### KONTROLA - JESTLI JSOU SCHOVANE SOUTEZE VE VYSLEDCICH "
   ]
  },
  {
   "cell_type": "markdown",
   "metadata": {},
   "source": [
    "souteze = soubor1.loc[soubor1[[\"CZECH\", \"MATH\", \"GRADES\"]].astype(float).sum(axis=1) != soubor1[\"SUM\"]]"
   ]
  },
  {
   "cell_type": "markdown",
   "metadata": {},
   "source": [
    "#### kontrola RANK, pripadne deleni"
   ]
  },
  {
   "cell_type": "code",
   "execution_count": 22,
   "metadata": {},
   "outputs": [
    {
     "name": "stdout",
     "output_type": "stream",
     "text": [
      "ID\n",
      "64      1\n",
      "237     2\n",
      "65      3\n",
      "224     4\n",
      "96      5\n",
      "178     6\n",
      "148     7\n",
      "20      8\n",
      "113     9\n",
      "58     10\n",
      "236    11\n",
      "36     12\n",
      "46     13\n",
      "99     14\n",
      "41     15\n",
      "60     16\n",
      "57     17\n",
      "294    18\n",
      "252    19\n",
      "285    20\n",
      "66     21\n",
      "42     22\n",
      "180    23\n",
      "177    24\n",
      "185    25\n",
      "37     26\n",
      "82     27\n",
      "39     28\n",
      "68     29\n",
      "83     30\n",
      "109    31\n",
      "159    32\n",
      "53     33\n",
      "262    34\n",
      "197    35\n",
      "293    36\n",
      "234    37\n",
      "143    38\n",
      "28     39\n",
      "267    40\n",
      "Name: RANK, dtype: int64\n"
     ]
    }
   ],
   "source": [
    "print(soubor1['RANK'].head(40))"
   ]
  },
  {
   "cell_type": "markdown",
   "metadata": {},
   "source": [
    "#### RANK transformation - test "
   ]
  },
  {
   "cell_type": "code",
   "execution_count": 147,
   "metadata": {},
   "outputs": [
    {
     "data": {
      "text/plain": [
       "'38'"
      ]
     },
     "execution_count": 147,
     "metadata": {},
     "output_type": "execute_result"
    }
   ],
   "source": [
    "test_string = soubor1['RANK'][38] # test also on index 0\n",
    "re.sub('[^0-9]+', '', test_string.split('-')[0])"
   ]
  },
  {
   "cell_type": "markdown",
   "metadata": {},
   "source": [
    "### RANK transformation + prevod na int + kontrola"
   ]
  },
  {
   "cell_type": "code",
   "execution_count": 148,
   "metadata": {},
   "outputs": [],
   "source": [
    "soubor1['RANK'] = [re.sub('[^0-9]+', '', s.split('-')[0]) for s in soubor1['RANK']]"
   ]
  },
  {
   "cell_type": "code",
   "execution_count": 149,
   "metadata": {},
   "outputs": [],
   "source": [
    "soubor1['RANK'] = soubor1['RANK'].astype(int)"
   ]
  },
  {
   "cell_type": "markdown",
   "metadata": {},
   "source": [
    "### doplneni sloupcu year a schoolcourse_id dle promennych a ukladani souboru"
   ]
  },
  {
   "cell_type": "code",
   "execution_count": 63,
   "metadata": {},
   "outputs": [],
   "source": [
    "soubor1['YEAR'] = year"
   ]
  },
  {
   "cell_type": "code",
   "execution_count": 64,
   "metadata": {},
   "outputs": [],
   "source": [
    "soubor1['SCHOOLCOURSE_ID'] = int(str(schoolid) + \"81\")\n",
    "#kod oboru 81 u osmiletych gymnazii, ktere zpracovavame v ramci projektu"
   ]
  },
  {
   "cell_type": "code",
   "execution_count": 65,
   "metadata": {
    "scrolled": true
   },
   "outputs": [],
   "source": [
    "soubor1.to_csv(f\"{path}/{schoolid}_{year}_clean.csv\", encoding='utf-8')\n"
   ]
  },
  {
   "cell_type": "code",
   "execution_count": null,
   "metadata": {},
   "outputs": [],
   "source": []
  },
  {
   "cell_type": "code",
   "execution_count": null,
   "metadata": {},
   "outputs": [],
   "source": []
  },
  {
   "cell_type": "code",
   "execution_count": null,
   "metadata": {},
   "outputs": [],
   "source": []
  }
 ],
 "metadata": {
  "kernelspec": {
   "display_name": "Python 3",
   "language": "python",
   "name": "python3"
  },
  "language_info": {
   "codemirror_mode": {
    "name": "ipython",
    "version": 3
   },
   "file_extension": ".py",
   "mimetype": "text/x-python",
   "name": "python",
   "nbconvert_exporter": "python",
   "pygments_lexer": "ipython3",
   "version": "3.8.4"
  }
 },
 "nbformat": 4,
 "nbformat_minor": 4
}
