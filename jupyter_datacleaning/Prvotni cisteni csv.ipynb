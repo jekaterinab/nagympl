{
 "cells": [
  {
   "cell_type": "markdown",
   "metadata": {},
   "source": [
    "### Zakladni transformace nad .csv ziskanymi z online convertoru PDFTABLES.com (pristup pres API, samostatny script v Pythonu) // Zakladni transformace nad .csv ziskanymi z online convertoru PDF to Excel.com jako .xmls a transformovanymi do .csv rucne"
   ]
  },
  {
   "cell_type": "code",
   "execution_count": null,
   "metadata": {},
   "outputs": [],
   "source": [
    "import os\n",
    "import re\n",
    "import pandas as pd"
   ]
  },
  {
   "cell_type": "code",
   "execution_count": null,
   "metadata": {},
   "outputs": [],
   "source": [
    "os.getcwd()\n"
   ]
  },
  {
   "cell_type": "code",
   "execution_count": null,
   "metadata": {
    "scrolled": true
   },
   "outputs": [],
   "source": [
    "os.listdir()\n"
   ]
  },
  {
   "cell_type": "markdown",
   "metadata": {},
   "source": [
    "### Promenne rok a skola"
   ]
  },
  {
   "cell_type": "code",
   "execution_count": null,
   "metadata": {},
   "outputs": [],
   "source": [
    "year = 2019\n",
    "schoolid = 20"
   ]
  },
  {
   "cell_type": "markdown",
   "metadata": {},
   "source": [
    "### slozka v pocitaci, kde jsou podslozky s jednotlivymi skolami\n",
    "upravit, pokud jupyter notebook se spousti z jine slozky, u mne to vypada takto"
   ]
  },
  {
   "cell_type": "code",
   "execution_count": null,
   "metadata": {},
   "outputs": [],
   "source": [
    "path = (f'./trans_PDF/ostre soubory/{schoolid}')"
   ]
  },
  {
   "cell_type": "code",
   "execution_count": null,
   "metadata": {},
   "outputs": [],
   "source": [
    "print(path)"
   ]
  },
  {
   "cell_type": "markdown",
   "metadata": {},
   "source": [
    "### vypsat vsechny .csv ve vybrane slozce "
   ]
  },
  {
   "cell_type": "code",
   "execution_count": null,
   "metadata": {},
   "outputs": [],
   "source": [
    "files = os.listdir(path)\n",
    "csvs = []\n",
    "for file in files:\n",
    "    if file.endswith('csv'):\n",
    "        csvs.append(file)\n",
    "    elif file.endswith('xlsx'):\n",
    "        csvs.append(file)\n",
    "print(csvs)\n",
    "#['20_2017_clean.csv', '20_2017_n_pythonapi.csv', '20_2017_pythonapi.csv', '20_2017_p_pythonapi.csv', \n",
    "#'20_2018.csv', '20_2018_clean.csv', '20_2018_n_pythonapi.csv', '20_2018_pythonapi.csv', '20_2019.csv',\n",
    "#'20_2019_clean.csv', '20_2019_n_pythonapi.csv', '20_2019_p_pythonapi.csv', '20_2020.csv', \n",
    "#'20_2020_clean.csv', '20_2020_n_pythonapi.csv', '20_2020_pythonapi.csv']"
   ]
  },
  {
   "cell_type": "markdown",
   "metadata": {},
   "source": [
    "#### Pokud v puvodnim souboru jsou carky misto tecek :\n",
    "decimal = ','"
   ]
  },
  {
   "cell_type": "markdown",
   "metadata": {},
   "source": [
    "##### Bud index souboru v seznamu nebo primo nazev pomoci promennych, ostatni soucasti nazvu pripadne dopsat, upravit pomlcky apod."
   ]
  },
  {
   "cell_type": "code",
   "execution_count": null,
   "metadata": {},
   "outputs": [],
   "source": [
    "soubor1 = pd.read_csv(f\"{path}/{csvs[-3]}\", encoding='utf-8', decimal = ',')"
   ]
  },
  {
   "cell_type": "code",
   "execution_count": null,
   "metadata": {},
   "outputs": [],
   "source": [
    "soubor1 = open(f\"{path}/{schoolid}-{year}.csv\")"
   ]
  },
  {
   "cell_type": "code",
   "execution_count": null,
   "metadata": {},
   "outputs": [],
   "source": [
    "soubor1 = pd.read_csv(f\"{path}/{schoolid}_{year}.csv\", encoding='utf-8', decimal = ',')"
   ]
  },
  {
   "cell_type": "code",
   "execution_count": null,
   "metadata": {},
   "outputs": [],
   "source": [
    "soubor1 = pd.read_csv(f\"{path}/{schoolid}_{year}_clean.csv\", encoding='utf-8', decimal = ',')"
   ]
  },
  {
   "cell_type": "code",
   "execution_count": null,
   "metadata": {
    "scrolled": false
   },
   "outputs": [],
   "source": [
    "#kontrola\n",
    "print(soubor1)\n",
    "# RANK     ID    SUM  GRADES    VR    SP  CZECH  MATH  ADMITTED_ID\n",
    "#0      57  20841  111.0     2.0  20.0  16.0   40.0    33            0\n",
    "#1      58  46153  111.0     2.0  18.0  14.0   38.0    39            0\n",
    "#2      58  69883  111.0     2.0  18.0  14.0   42.0    35            0\n",
    "#3      60  43215  110.0     2.0  18.0  18.0   35.0    37            0\n",
    "#4      61  17451  110.0     2.0  16.0  16.0   41.0    35            0"
   ]
  },
  {
   "cell_type": "code",
   "execution_count": null,
   "metadata": {},
   "outputs": [],
   "source": [
    "#kontrola typu\n",
    "print(type(soubor1))\n",
    "#<class 'pandas.core.frame.DataFrame'>"
   ]
  },
  {
   "cell_type": "code",
   "execution_count": null,
   "metadata": {},
   "outputs": [],
   "source": [
    "#kontrola obsahu \n",
    "soubor1.info()\n",
    "#<class 'pandas.core.frame.DataFrame'>\n",
    "#RangeIndex: 386 entries, 0 to 385\n",
    "#Data columns (total 9 columns):\n",
    " #   Column       Non-Null Count  Dtype  \n",
    "#---  ------       --------------  -----  \n",
    "# 0   RANK         386 non-null    int64  \n",
    "# 1   ID           386 non-null    int64  \n",
    "# 2   SUM          386 non-null    float64\n",
    "# 3   GRADES       386 non-null    float64\n",
    "# 4   VR           385 non-null    float64\n",
    "# 5   SP           385 non-null    float64\n",
    "# 6   CZECH        384 non-null    float64\n",
    "# 7   MATH         386 non-null    int64  \n",
    "# 8   ADMITTED_ID  386 non-null    int64  \n",
    "#dtypes: float64(5), int64(4)\n",
    "#memory usage: 27.2 KB"
   ]
  },
  {
   "cell_type": "markdown",
   "metadata": {},
   "source": [
    "### pripadna uprava nazvu"
   ]
  },
  {
   "cell_type": "markdown",
   "metadata": {},
   "source": [
    "soubor1.rename(\n",
    "    columns=\n",
    "        {'poradi': 'RANK',\n",
    "         'matemat.': 'MATH',\n",
    "         'čeština': 'CZECH',\n",
    "         'Celkem': 'SUM',\n",
    "         'ZŠ': 'GRADES',\n",
    "         'reg. číslo': 'ID'},\n",
    "    inplace=True)"
   ]
  },
  {
   "cell_type": "markdown",
   "metadata": {},
   "source": [
    "soubor1[\"SUM\"] = soubor1[\"SUM\"].astype(float)"
   ]
  },
  {
   "cell_type": "markdown",
   "metadata": {},
   "source": [
    "#### KONTROLA - JESTLI JSOU SCHOVANE SOUTEZE VE VYSLEDCICH "
   ]
  },
  {
   "cell_type": "code",
   "execution_count": null,
   "metadata": {},
   "outputs": [],
   "source": [
    "souteze = soubor1.loc[soubor1[[\"CZECH\", \"MATH\", \"GRADES\"]].astype(float).sum(axis=1) != soubor1[\"SUM\"]]"
   ]
  },
  {
   "cell_type": "markdown",
   "metadata": {},
   "source": [
    "#### kontrola RANK, pripadne deleni"
   ]
  },
  {
   "cell_type": "code",
   "execution_count": null,
   "metadata": {},
   "outputs": [],
   "source": [
    "print(soubor1['RANK'].tail(40))"
   ]
  },
  {
   "cell_type": "markdown",
   "metadata": {},
   "source": [
    "#### RANK transformation - test "
   ]
  },
  {
   "cell_type": "code",
   "execution_count": null,
   "metadata": {},
   "outputs": [],
   "source": [
    "test_string = soubor1['RANK'][36] # test also on index 0\n",
    "re.sub('[^0-9]+', '', test_string.split('-')[0])"
   ]
  },
  {
   "cell_type": "markdown",
   "metadata": {},
   "source": [
    "### RANK transformation + prevod na int + kontrola"
   ]
  },
  {
   "cell_type": "code",
   "execution_count": null,
   "metadata": {},
   "outputs": [],
   "source": [
    "soubor1['RANK'] = [re.sub('[^0-9]+', '', s.split('-')[0]) for s in soubor1['RANK']]"
   ]
  },
  {
   "cell_type": "code",
   "execution_count": null,
   "metadata": {},
   "outputs": [],
   "source": [
    "soubor1['RANK'] = soubor1['RANK'].astype(int)"
   ]
  },
  {
   "cell_type": "markdown",
   "metadata": {},
   "source": [
    "### doplneni sloupcu year a schoolcourse_id dle promennych a ukladani souboru"
   ]
  },
  {
   "cell_type": "code",
   "execution_count": null,
   "metadata": {},
   "outputs": [],
   "source": [
    "soubor1['YEAR'] = year"
   ]
  },
  {
   "cell_type": "code",
   "execution_count": null,
   "metadata": {},
   "outputs": [],
   "source": [
    "soubor1['SCHOOLCOURSE_ID'] = int(str(schoolid) + \"81\")\n",
    "#kod oboru 81 u osmiletych gymnazii, ktere zpracovavame v ramci projektu"
   ]
  },
  {
   "cell_type": "code",
   "execution_count": null,
   "metadata": {
    "scrolled": true
   },
   "outputs": [],
   "source": [
    "soubor1.to_csv(f\"{path}/{schoolid}_{year}_clean.csv\", encoding='utf-8')\n"
   ]
  }
 ],
 "metadata": {
  "kernelspec": {
   "display_name": "Python 3",
   "language": "python",
   "name": "python3"
  },
  "language_info": {
   "codemirror_mode": {
    "name": "ipython",
    "version": 3
   },
   "file_extension": ".py",
   "mimetype": "text/x-python",
   "name": "python",
   "nbconvert_exporter": "python",
   "pygments_lexer": "ipython3",
   "version": "3.8.4"
  }
 },
 "nbformat": 4,
 "nbformat_minor": 4
}
