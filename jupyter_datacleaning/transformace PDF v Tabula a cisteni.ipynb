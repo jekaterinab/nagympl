{
 "cells": [
  {
   "cell_type": "markdown",
   "metadata": {},
   "source": [
    "# Transformace PDF v Tabula"
   ]
  },
  {
   "cell_type": "code",
   "execution_count": null,
   "metadata": {},
   "outputs": [],
   "source": [
    "import os\n",
    "import re\n",
    "import pandas as pd\n",
    "import tabula"
   ]
  },
  {
   "cell_type": "markdown",
   "metadata": {},
   "source": [
    "### Zjistime, ve kterem adresari jsme"
   ]
  },
  {
   "cell_type": "code",
   "execution_count": null,
   "metadata": {},
   "outputs": [],
   "source": [
    "os.getcwd()"
   ]
  },
  {
   "cell_type": "code",
   "execution_count": null,
   "metadata": {},
   "outputs": [],
   "source": [
    "### Seznam vseho, co je v danem adresari"
   ]
  },
  {
   "cell_type": "code",
   "execution_count": null,
   "metadata": {
    "scrolled": true
   },
   "outputs": [],
   "source": [
    "os.listdir()"
   ]
  },
  {
   "cell_type": "markdown",
   "metadata": {},
   "source": [
    "### Promenne rok a skola,se kterymi pracujeme"
   ]
  },
  {
   "cell_type": "code",
   "execution_count": null,
   "metadata": {},
   "outputs": [],
   "source": [
    "year = 2017\n",
    "schoolid = 16"
   ]
  },
  {
   "cell_type": "markdown",
   "metadata": {},
   "source": [
    "### Slozka v pocitaci, kde jsou podslozky s jednotlivymi skolami nebo kam chceme ukladat - pokud nejsme tam, lze vlozit (pripadne ulozit notebook do prislusne slozky)"
   ]
  },
  {
   "cell_type": "code",
   "execution_count": null,
   "metadata": {},
   "outputs": [],
   "source": [
    "path = (f'D:/nagympl/trans_PDF/ostre soubory/{schoolid}/')"
   ]
  },
  {
   "cell_type": "code",
   "execution_count": null,
   "metadata": {},
   "outputs": [],
   "source": [
    "print(path)"
   ]
  },
  {
   "cell_type": "markdown",
   "metadata": {},
   "source": [
    "#### seznam souboru v dane slozce"
   ]
  },
  {
   "cell_type": "markdown",
   "metadata": {},
   "source": [
    "files = os.listdir(path)\n",
    "print(files)"
   ]
  },
  {
   "cell_type": "markdown",
   "metadata": {},
   "source": [
    "#### vybirame si soubor"
   ]
  },
  {
   "cell_type": "markdown",
   "metadata": {},
   "source": [
    "file = path + files[3]\n",
    "print(file)\n",
    "./trans_PDF/ostre soubory/16/16-2017.csv"
   ]
  },
  {
   "cell_type": "markdown",
   "metadata": {},
   "source": [
    "### Soubor je na webu\n",
    "file_web = \"www.neco.nekde/x.pdf\""
   ]
  },
  {
   "cell_type": "code",
   "execution_count": null,
   "metadata": {},
   "outputs": [],
   "source": [
    "file_web = \"www.neco.nekde/x.pdf\""
   ]
  },
  {
   "cell_type": "markdown",
   "metadata": {
    "scrolled": true
   },
   "source": [
    "### Nacitani souboru pomoci Tabuly\n",
    "file - na pocitaci, file_web - na webu"
   ]
  },
  {
   "cell_type": "markdown",
   "metadata": {},
   "source": [
    "table_raw = tabula.read_pdf(\n",
    "    file,\n",
    "    pages=\"all\",\n",
    "    multiple_tables=True,\n",
    "    output_format='dataframe')"
   ]
  },
  {
   "cell_type": "markdown",
   "metadata": {},
   "source": [
    "### Kontrola"
   ]
  },
  {
   "cell_type": "code",
   "execution_count": null,
   "metadata": {},
   "outputs": [],
   "source": [
    "print(table_raw)\n",
    "print(type(table_raw))"
   ]
  },
  {
   "cell_type": "code",
   "execution_count": null,
   "metadata": {},
   "outputs": [],
   "source": [
    "print(len(table_raw))"
   ]
  },
  {
   "cell_type": "code",
   "execution_count": null,
   "metadata": {},
   "outputs": [],
   "source": [
    "print(type(table_raw[0]))"
   ]
  },
  {
   "cell_type": "code",
   "execution_count": null,
   "metadata": {},
   "outputs": [],
   "source": [
    "table = table_raw[0]\n"
   ]
  },
  {
   "cell_type": "code",
   "execution_count": null,
   "metadata": {},
   "outputs": [],
   "source": [
    "print(type(table))"
   ]
  },
  {
   "cell_type": "code",
   "execution_count": null,
   "metadata": {},
   "outputs": [],
   "source": [
    "table.info()"
   ]
  },
  {
   "cell_type": "markdown",
   "metadata": {},
   "source": [
    "### Pripadne prejmenovani sloupcu a kontrola"
   ]
  },
  {
   "cell_type": "markdown",
   "metadata": {},
   "source": [
    "table.rename(\n",
    "    columns=\n",
    "        {'poradi': 'RANK',\n",
    "         'matemat.': 'MATH',\n",
    "         'čeština': 'CZECH',\n",
    "         'Celkem': 'SUM',\n",
    "         'ZŠ': 'GRADES',\n",
    "         'reg. číslo': 'ID'},\n",
    "    inplace=True)\n",
    "print(table)"
   ]
  },
  {
   "cell_type": "markdown",
   "metadata": {},
   "source": [
    "### Hledani 'schovanych' bodu za souteze: \n",
    "pokud jsou schovane pod SUM, bude SUM vetsi nez soucet vsech bodu. Pokud jsou schovane pod GRADES, moc s tim nenadelame, ale muzeme vyfiltrovat ty, kdo ma vic bodu v GRADES nez maximalni mozny pocet, a odecist "
   ]
  },
  {
   "cell_type": "markdown",
   "metadata": {},
   "source": [
    "table.loc[soubor1[[\"CZECH\", \"MATH\", \"GRADES\"]].sum(axis=1) != soubor1[\"SUM\"]]\n",
    "table"
   ]
  },
  {
   "cell_type": "markdown",
   "metadata": {},
   "source": [
    "## Pripadna uprava RANK \n",
    "deleni slozeneho poradi, vymazani pomlcky a rozpeti, prevod na numericky datovy typ"
   ]
  },
  {
   "cell_type": "markdown",
   "metadata": {},
   "source": [
    "#kontrola\n",
    "print(soubor1['RANK'].head(35))"
   ]
  },
  {
   "cell_type": "markdown",
   "metadata": {},
   "source": [
    "### RANK transformation - test, jestli funguje jak ma "
   ]
  },
  {
   "cell_type": "markdown",
   "metadata": {},
   "source": [
    "test_string = soubor1['RANK'][28] # test also on index 0\n",
    "re.sub('[^0-9]+', '', test_string.split('-')[0])"
   ]
  },
  {
   "cell_type": "markdown",
   "metadata": {},
   "source": [
    "### RANK transformation + prevod na int + kontrola"
   ]
  },
  {
   "cell_type": "code",
   "execution_count": null,
   "metadata": {},
   "outputs": [],
   "source": [
    "soubor1['RANK'] = [re.sub('[^0-9]+', '', s.split('-')[0]) for s in soubor1['RANK']]"
   ]
  },
  {
   "cell_type": "code",
   "execution_count": null,
   "metadata": {},
   "outputs": [],
   "source": [
    "soubor1['RANK'] = soubor1['RANK'].astype(int)"
   ]
  },
  {
   "cell_type": "markdown",
   "metadata": {},
   "source": [
    "### kontrola\n",
    "soubor1.tail(50)"
   ]
  },
  {
   "cell_type": "markdown",
   "metadata": {},
   "source": [
    "### Vytvoreni sloupcu YEAR a SCHOOLCOURSE_IS"
   ]
  },
  {
   "cell_type": "code",
   "execution_count": null,
   "metadata": {},
   "outputs": [],
   "source": [
    "soubor1['YEAR'] = year"
   ]
  },
  {
   "cell_type": "code",
   "execution_count": null,
   "metadata": {},
   "outputs": [],
   "source": [
    "soubor1['SCHOOLCOURSE_ID'] = int(str(schoolid) + \"81\")"
   ]
  },
  {
   "cell_type": "markdown",
   "metadata": {},
   "source": [
    "## Ulozeni souboru \n",
    "rok a skola do nazvu jsou doplneny automaticky"
   ]
  },
  {
   "cell_type": "code",
   "execution_count": null,
   "metadata": {},
   "outputs": [],
   "source": [
    "soubor1.to_csv(f\"{path}/{schoolid}_{year}_clean.csv\", encoding='utf-8')"
   ]
  }
 ],
 "metadata": {
  "kernelspec": {
   "display_name": "Python 3",
   "language": "python",
   "name": "python3"
  },
  "language_info": {
   "codemirror_mode": {
    "name": "ipython",
    "version": 3
   },
   "file_extension": ".py",
   "mimetype": "text/x-python",
   "name": "python",
   "nbconvert_exporter": "python",
   "pygments_lexer": "ipython3",
   "version": "3.8.4"
  }
 },
 "nbformat": 4,
 "nbformat_minor": 4
}
