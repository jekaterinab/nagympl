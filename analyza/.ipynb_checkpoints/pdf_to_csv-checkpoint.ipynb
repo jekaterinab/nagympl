{
 "cells": [
  {
   "cell_type": "markdown",
   "metadata": {},
   "source": [
    "Script od Kačky Lahodové"
   ]
  },
  {
   "cell_type": "markdown",
   "metadata": {},
   "source": [
    "Set up"
   ]
  },
  {
   "cell_type": "code",
   "execution_count": 3,
   "metadata": {},
   "outputs": [],
   "source": [
    "import tabula\n",
    "import os\n",
    "import re"
   ]
  },
  {
   "cell_type": "markdown",
   "metadata": {},
   "source": [
    "Load pdf\n",
    "Check current working directory"
   ]
  },
  {
   "cell_type": "code",
   "execution_count": 6,
   "metadata": {},
   "outputs": [
    {
     "data": {
      "text/plain": [
       "'D:\\\\nagympl'"
      ]
     },
     "execution_count": 6,
     "metadata": {},
     "output_type": "execute_result"
    }
   ],
   "source": [
    "os.getcwd()"
   ]
  },
  {
   "cell_type": "markdown",
   "metadata": {},
   "source": [
    "List everything in the dir"
   ]
  },
  {
   "cell_type": "code",
   "execution_count": 7,
   "metadata": {},
   "outputs": [
    {
     "data": {
      "text/plain": [
       "['.ipynb_checkpoints',\n",
       " 'client_secrets.json',\n",
       " 'dapraha-git',\n",
       " 'nagympl',\n",
       " 'pdf_to_csv.ipynb',\n",
       " 'pdf_to_csv.py',\n",
       " 'tableau',\n",
       " 'test pydrive.py',\n",
       " 'trans_PDF']"
      ]
     },
     "execution_count": 7,
     "metadata": {},
     "output_type": "execute_result"
    }
   ],
   "source": [
    "os.listdir()\n"
   ]
  },
  {
   "cell_type": "markdown",
   "metadata": {},
   "source": [
    "Select path with the pdfs"
   ]
  },
  {
   "cell_type": "code",
   "execution_count": 5,
   "metadata": {},
   "outputs": [],
   "source": [
    "path = './trans_PDF/ostre soubory/6/'\n"
   ]
  },
  {
   "cell_type": "markdown",
   "metadata": {},
   "source": [
    "# List all available pdfs in selected folder"
   ]
  },
  {
   "cell_type": "code",
   "execution_count": 6,
   "metadata": {},
   "outputs": [
    {
     "name": "stdout",
     "output_type": "stream",
     "text": [
      "['06_2017_pythonapi.csv', '06_2017_pythonapi_clean.csv', '06_2018_pythonapi.csv', '06_2018_pythonapi_clean.csv', '06_2019_pythonapi_clean.csv', '06_2019_pythonapi_test.csv', '06_2019_test.pdf', '06_2020_pythonapi.csv', '06_2020_pythonapi_clean.csv', '6_2017.pdf', '6_2018.pdf', '6_2020.pdf']\n"
     ]
    }
   ],
   "source": [
    "files = os.listdir(path)\n",
    "print(files)"
   ]
  },
  {
   "cell_type": "markdown",
   "metadata": {},
   "source": [
    "# Get the file path"
   ]
  },
  {
   "cell_type": "code",
   "execution_count": 8,
   "metadata": {},
   "outputs": [],
   "source": [
    "#file_web = \"https://www.matematickaberuska.cz/vysledky/2020/Jihomoravsk%c3%bd%20kraj/B%c5%99eclav/www.gbv.cz/Vysledky_8WEB.pdf\""
   ]
  },
  {
   "cell_type": "code",
   "execution_count": 9,
   "metadata": {},
   "outputs": [],
   "source": [
    "file_web = \"https://www.matematickaberuska.cz/vysledky/2017/Praha/st%c3%a1tn%c3%ad/www.gybu.cz/vysledky-8lete.PDF\""
   ]
  },
  {
   "cell_type": "code",
   "execution_count": 10,
   "metadata": {},
   "outputs": [
    {
     "ename": "NameError",
     "evalue": "name 'path' is not defined",
     "output_type": "error",
     "traceback": [
      "\u001b[1;31m---------------------------------------------------------------------------\u001b[0m",
      "\u001b[1;31mNameError\u001b[0m                                 Traceback (most recent call last)",
      "\u001b[1;32m<ipython-input-10-4c637b3b7af6>\u001b[0m in \u001b[0;36m<module>\u001b[1;34m\u001b[0m\n\u001b[1;32m----> 1\u001b[1;33m \u001b[0mfile_folder_1\u001b[0m \u001b[1;33m=\u001b[0m \u001b[0mpath\u001b[0m \u001b[1;33m+\u001b[0m \u001b[0mfiles\u001b[0m\u001b[1;33m[\u001b[0m\u001b[1;36m0\u001b[0m\u001b[1;33m]\u001b[0m\u001b[1;33m\u001b[0m\u001b[1;33m\u001b[0m\u001b[0m\n\u001b[0m",
      "\u001b[1;31mNameError\u001b[0m: name 'path' is not defined"
     ]
    }
   ],
   "source": [
    "file_folder_1 = path + files[0]"
   ]
  },
  {
   "cell_type": "markdown",
   "metadata": {},
   "source": [
    "# Read tables with tabula"
   ]
  },
  {
   "cell_type": "code",
   "execution_count": 11,
   "metadata": {},
   "outputs": [
    {
     "name": "stderr",
     "output_type": "stream",
     "text": [
      "Got stderr: Oct 27, 2020 9:52:15 AM org.apache.pdfbox.pdmodel.font.PDTrueTypeFont <init>\r\n",
      "WARNING: Using fallback font 'Arial-BoldMT' for 'Times New Roman,Bold,Italic'\r\n",
      "Oct 27, 2020 9:52:17 AM org.apache.pdfbox.pdmodel.font.PDTrueTypeFont <init>\r\n",
      "WARNING: Using fallback font 'Arial-BoldMT' for 'Times New Roman,Bold,Italic'\r\n",
      "Oct 27, 2020 9:52:18 AM org.apache.pdfbox.pdmodel.font.PDTrueTypeFont <init>\r\n",
      "WARNING: Using fallback font 'Arial-BoldMT' for 'Times New Roman,Bold,Italic'\r\n",
      "Oct 27, 2020 9:52:18 AM org.apache.pdfbox.pdmodel.font.PDTrueTypeFont <init>\r\n",
      "WARNING: Using fallback font 'Arial-BoldMT' for 'Times New Roman,Bold,Italic'\r\n",
      "Oct 27, 2020 9:52:18 AM org.apache.pdfbox.pdmodel.font.PDTrueTypeFont <init>\r\n",
      "WARNING: Using fallback font 'Arial-BoldMT' for 'Times New Roman,Bold,Italic'\r\n",
      "Oct 27, 2020 9:52:19 AM org.apache.pdfbox.pdmodel.font.PDTrueTypeFont <init>\r\n",
      "WARNING: Using fallback font 'Arial-BoldMT' for 'Times New Roman,Bold,Italic'\r\n",
      "Oct 27, 2020 9:52:19 AM org.apache.pdfbox.pdmodel.font.PDTrueTypeFont <init>\r\n",
      "WARNING: Using fallback font 'Arial-BoldMT' for 'Times New Roman,Bold,Italic'\r\n",
      "Oct 27, 2020 9:52:19 AM org.apache.pdfbox.pdmodel.font.PDTrueTypeFont <init>\r\n",
      "WARNING: Using fallback font 'Arial-BoldMT' for 'Times New Roman,Bold,Italic'\r\n",
      "Oct 27, 2020 9:52:20 AM org.apache.pdfbox.pdmodel.font.PDTrueTypeFont <init>\r\n",
      "WARNING: Using fallback font 'Arial-BoldMT' for 'Times New Roman,Bold,Italic'\r\n",
      "Oct 27, 2020 9:52:20 AM org.apache.pdfbox.pdmodel.font.PDTrueTypeFont <init>\r\n",
      "WARNING: Using fallback font 'Arial-BoldMT' for 'Times New Roman,Bold,Italic'\r\n",
      "Oct 27, 2020 9:52:20 AM org.apache.pdfbox.pdmodel.font.PDTrueTypeFont <init>\r\n",
      "WARNING: Using fallback font 'Arial-BoldMT' for 'Times New Roman,Bold,Italic'\r\n",
      "Oct 27, 2020 9:52:21 AM org.apache.pdfbox.pdmodel.font.PDTrueTypeFont <init>\r\n",
      "WARNING: Using fallback font 'Arial-BoldMT' for 'Times New Roman,Bold,Italic'\r\n",
      "Oct 27, 2020 9:52:21 AM org.apache.pdfbox.pdmodel.font.PDTrueTypeFont <init>\r\n",
      "WARNING: Using fallback font 'Arial-BoldMT' for 'Times New Roman,Bold,Italic'\r\n",
      "Oct 27, 2020 9:52:21 AM org.apache.pdfbox.pdmodel.font.PDTrueTypeFont <init>\r\n",
      "WARNING: Using fallback font 'Arial-BoldMT' for 'Times New Roman,Bold,Italic'\r\n",
      "\n"
     ]
    }
   ],
   "source": [
    "table_raw = tabula.read_pdf(\n",
    "    file_web,\n",
    "    pages=\"all\",\n",
    "    multiple_tables=True,\n",
    "    output_format='dataframe')\n"
   ]
  },
  {
   "cell_type": "markdown",
   "metadata": {},
   "source": [
    "# -----------------------------------------------------------------------------\n",
    "# --------------- Tabula output analysis\n",
    "# Print the output to validate"
   ]
  },
  {
   "cell_type": "code",
   "execution_count": 12,
   "metadata": {},
   "outputs": [
    {
     "name": "stdout",
     "output_type": "stream",
     "text": [
      "[    Unnamed: 0  Unnamed: 1 B o d o v é  h o d n o c e n í Unnamed: 3\n",
      "0          NaN  reg. číslo            čeština matemat. ZŠ     Celkem\n",
      "1           1.        8346                    423 450 100        973\n",
      "2           2.        8112                    441 423 100        964\n",
      "3           3.        8394                    441 414 100        955\n",
      "4           4.        8431                    414 432 100        946\n",
      "..         ...         ...                            ...        ...\n",
      "519       495.        8368                      126 90 80        296\n",
      "520       496.        8452                      153 72 60        285\n",
      "521       497.        8484                      72 162 36        270\n",
      "522       498.        8374                      108 81 80        269\n",
      "523       499.        8146                      117 72 70        259\n",
      "\n",
      "[524 rows x 4 columns]]\n",
      "<class 'list'>\n"
     ]
    }
   ],
   "source": [
    "print(table_raw)\n",
    "print(type(table_raw))"
   ]
  },
  {
   "cell_type": "code",
   "execution_count": null,
   "metadata": {},
   "outputs": [],
   "source": [
    "table.rename(\n",
    "    columns=\n",
    "        {'EEvidenční číslo žáka': 'ID',\n",
    "         'Mat': 'MATH',\n",
    "         'ČJ': 'CZECH',\n",
    "         'OSP Celk': 'SUM',\n",
    "         'Vysvědčení': 'GRADES',\n",
    "         'Olympiády': 'CONTESTS',\n",
    "         'Body ZPS': 'other',\n",
    "         '∑ Celkem': 'total',\n",
    "         'Výsledek přijímacího řízení': 'ISADMITTED',\n",
    "         'Pořadí': 'RANK'},\n",
    "    inplace=True)"
   ]
  },
  {
   "cell_type": "code",
   "execution_count": null,
   "metadata": {},
   "outputs": [],
   "source": [
    "# Add columns not available in the document from file name???"
   ]
  },
  {
   "cell_type": "code",
   "execution_count": 14,
   "metadata": {},
   "outputs": [
    {
     "ename": "IndentationError",
     "evalue": "unexpected indent (<ipython-input-14-f8f23f0d9ca2>, line 2)",
     "output_type": "error",
     "traceback": [
      "\u001b[1;36m  File \u001b[1;32m\"<ipython-input-14-f8f23f0d9ca2>\"\u001b[1;36m, line \u001b[1;32m2\u001b[0m\n\u001b[1;33m    sep=\";\",\u001b[0m\n\u001b[1;37m    ^\u001b[0m\n\u001b[1;31mIndentationError\u001b[0m\u001b[1;31m:\u001b[0m unexpected indent\n"
     ]
    }
   ],
   "source": [
    "table_raw.to_csv(\"./trans_PDF/ostre soubory/14/2017_raw.csv\", sep=\";\", index=False)\n",
    "        "
   ]
  },
  {
   "cell_type": "code",
   "execution_count": null,
   "metadata": {},
   "outputs": [],
   "source": []
  },
  {
   "cell_type": "code",
   "execution_count": null,
   "metadata": {},
   "outputs": [],
   "source": []
  }
 ],
 "metadata": {
  "kernelspec": {
   "display_name": "Python 3",
   "language": "python",
   "name": "python3"
  },
  "language_info": {
   "codemirror_mode": {
    "name": "ipython",
    "version": 3
   },
   "file_extension": ".py",
   "mimetype": "text/x-python",
   "name": "python",
   "nbconvert_exporter": "python",
   "pygments_lexer": "ipython3",
   "version": "3.8.4"
  }
 },
 "nbformat": 4,
 "nbformat_minor": 4
}
