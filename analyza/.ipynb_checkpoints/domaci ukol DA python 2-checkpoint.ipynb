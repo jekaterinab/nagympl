{
 "cells": [
  {
   "cell_type": "code",
   "execution_count": 94,
   "metadata": {},
   "outputs": [
    {
     "name": "stdout",
     "output_type": "stream",
     "text": [
      "[['Pšenice', '2009', '400t\\n'], ['Ječmen', '2009', '180t\\n'], ['Pšenice', '2010', '380t\\n'], ['Ječmen', '2010', '150t\\n'], ['Pšenice', '2011', '465t\\n'], ['Ječmen', '2011', '160t\\n'], ['Pšenice', '2012', '375t\\n'], ['Ječmen', '2012', '155t\\n'], ['Pšenice', '2013', '430t\\n'], ['Ječmen', '2013', '150t\\n'], ['Pšenice', '2014', '503t\\n'], ['Ječmen', '2014', '175t\\n'], ['Pšenice', '2015', '470t\\n'], ['Ječmen', '2015', '183t\\n'], ['Pšenice', '2016', '480t \\n'], ['Ječmen', '2016', '170t\\n'], ['Pšenice', '2017', '416t\\n'], ['Ječmen', '2017', '160t\\n'], ['Pšenice', '2018', '430t\\n'], ['Ječmen', '2018', '152t\\n'], ['Pšenice', '2019', '456t\\n'], ['Ječmen', '2019', '164t']]\n"
     ]
    }
   ],
   "source": [
    "with open('D:/da_ukoly/bobrakova_jekaterina_vynosy.csv', encoding='utf-8') as sklizne: \n",
    "    with open('D:/da_ukoly/psenice.txt', 'w', encoding='utf-8') as psenice:\n",
    "        with open('D:/da_ukoly/jecmen.txt', 'w', encoding='utf-8') as jecmen:\n",
    "            data = sklizne.readlines()\n",
    "            data = [jednotka.split(';') for jednotka in data]\n",
    "            print(data)"
   ]
  },
  {
   "cell_type": "code",
   "execution_count": 97,
   "metadata": {},
   "outputs": [
    {
     "name": "stdout",
     "output_type": "stream",
     "text": [
      "['Pšenice', '2009', '400']\n",
      "['Ječmen', '2009', '180']\n",
      "['Pšenice', '2010', '380']\n",
      "['Ječmen', '2010', '150']\n",
      "['Pšenice', '2011', '465']\n",
      "['Ječmen', '2011', '160']\n",
      "['Pšenice', '2012', '375']\n",
      "['Ječmen', '2012', '155']\n",
      "['Pšenice', '2013', '430']\n",
      "['Ječmen', '2013', '150']\n",
      "['Pšenice', '2014', '503']\n",
      "['Ječmen', '2014', '175']\n",
      "['Pšenice', '2015', '470']\n",
      "['Ječmen', '2015', '183']\n",
      "['Pšenice', '2016', '480']\n",
      "['Ječmen', '2016', '170']\n",
      "['Pšenice', '2017', '416']\n",
      "['Ječmen', '2017', '160']\n",
      "['Pšenice', '2018', '430']\n",
      "['Ječmen', '2018', '152']\n",
      "['Pšenice', '2019', '456']\n",
      "['Ječmen', '2019', '164']\n",
      "['Ječmen', '2019', '164']\n"
     ]
    }
   ],
   "source": [
    "#jednotka_clean = \"\"\n",
    "data_new = []\n",
    "for jednotka in data:\n",
    "    #print(jednotka[-1])\n",
    "    #for jednotka[-1] in jednotka:\n",
    "        #print(jednotka[2])\n",
    "    #print(jednotka[-1])\n",
    "    jednotka_new = jednotka[2].replace(\" \", \"\")\n",
    "    jednotka_new = jednotka_new.replace(\"t\\n\",\"\")\n",
    "    jednotka_new = jednotka_new.replace(\"t \\n\",\"\")\n",
    "    jednotka_new = jednotka_new.replace(\"t\",\"\")\n",
    "    #print(jednotka_new)\n",
    "    jednotka = jednotka[0:2] + [jednotka_new]\n",
    "    #print(jednotka[0])\n",
    "    #jednotka_clean += jednotka_new\n",
    "    print(jednotka)\n",
    "    \n",
    "    data_new += jednotka\n",
    "print(data_new)\n"
   ]
  },
  {
   "cell_type": "code",
   "execution_count": 96,
   "metadata": {},
   "outputs": [
    {
     "ename": "ValueError",
     "evalue": "I/O operation on closed file.",
     "output_type": "error",
     "traceback": [
      "\u001b[1;31m---------------------------------------------------------------------------\u001b[0m",
      "\u001b[1;31mValueError\u001b[0m                                Traceback (most recent call last)",
      "\u001b[1;32m<ipython-input-96-f29cf10e14f4>\u001b[0m in \u001b[0;36m<module>\u001b[1;34m\u001b[0m\n\u001b[0;32m      1\u001b[0m \u001b[1;32mfor\u001b[0m \u001b[0mradek\u001b[0m \u001b[1;32min\u001b[0m \u001b[0mdata\u001b[0m\u001b[1;33m:\u001b[0m\u001b[1;33m\u001b[0m\u001b[1;33m\u001b[0m\u001b[0m\n\u001b[0;32m      2\u001b[0m                \u001b[1;32mif\u001b[0m \u001b[0mradek\u001b[0m\u001b[1;33m[\u001b[0m\u001b[1;36m0\u001b[0m\u001b[1;33m]\u001b[0m\u001b[1;33m.\u001b[0m\u001b[0mstartswith\u001b[0m\u001b[1;33m(\u001b[0m\u001b[1;34m'Pšen'\u001b[0m\u001b[1;33m)\u001b[0m\u001b[1;33m:\u001b[0m\u001b[1;33m\u001b[0m\u001b[1;33m\u001b[0m\u001b[0m\n\u001b[1;32m----> 3\u001b[1;33m                    \u001b[0mpsenice\u001b[0m\u001b[1;33m.\u001b[0m\u001b[0mwrite\u001b[0m\u001b[1;33m(\u001b[0m\u001b[1;34mf\"{jednotka[1]}-{jednotka[2]}\\n\"\u001b[0m\u001b[1;33m)\u001b[0m\u001b[1;33m\u001b[0m\u001b[1;33m\u001b[0m\u001b[0m\n\u001b[0m\u001b[0;32m      4\u001b[0m                \u001b[1;32melse\u001b[0m\u001b[1;33m:\u001b[0m\u001b[1;33m\u001b[0m\u001b[1;33m\u001b[0m\u001b[0m\n\u001b[0;32m      5\u001b[0m                    \u001b[0mjecmen\u001b[0m\u001b[1;33m.\u001b[0m\u001b[0mwrite\u001b[0m\u001b[1;33m(\u001b[0m\u001b[1;34mf\"{jednotka[1]}-{jednotka[2]}\\n\"\u001b[0m\u001b[1;33m)\u001b[0m\u001b[1;33m\u001b[0m\u001b[1;33m\u001b[0m\u001b[0m\n",
      "\u001b[1;31mValueError\u001b[0m: I/O operation on closed file."
     ]
    }
   ],
   "source": [
    " for radek in data:\n",
    "                if radek[0].startswith('Pšen'):\n",
    "                    psenice.write(f\"{jednotka[1]}-{jednotka[2]}\\n\")\n",
    "                else:\n",
    "                    jecmen.write(f\"{jednotka[1]}-{jednotka[2]}\\n\")"
   ]
  },
  {
   "cell_type": "code",
   "execution_count": null,
   "metadata": {},
   "outputs": [],
   "source": []
  }
 ],
 "metadata": {
  "kernelspec": {
   "display_name": "Python 3",
   "language": "python",
   "name": "python3"
  },
  "language_info": {
   "codemirror_mode": {
    "name": "ipython",
    "version": 3
   },
   "file_extension": ".py",
   "mimetype": "text/x-python",
   "name": "python",
   "nbconvert_exporter": "python",
   "pygments_lexer": "ipython3",
   "version": "3.8.4"
  }
 },
 "nbformat": 4,
 "nbformat_minor": 4
}
